{
 "cells": [
  {
   "cell_type": "markdown",
   "metadata": {},
   "source": [
    "# SUBMIT"
   ]
  },
  {
   "cell_type": "code",
   "execution_count": 1,
   "metadata": {},
   "outputs": [],
   "source": [
    "from __future__ import absolute_import, division, print_function\n",
    "\n",
    "%load_ext autoreload\n",
    "%reload_ext autoreload\n",
    "%autoreload 2"
   ]
  },
  {
   "cell_type": "code",
   "execution_count": 2,
   "metadata": {},
   "outputs": [],
   "source": [
    "from config import *\n",
    "from common import *\n",
    "display.clear_output()"
   ]
  },
  {
   "cell_type": "markdown",
   "metadata": {},
   "source": [
    "## 1. Setup Environments"
   ]
  },
  {
   "cell_type": "code",
   "execution_count": 3,
   "metadata": {},
   "outputs": [],
   "source": [
    "from affwild2_challenge.basic_emotion.losses1 import ccc, loss_ccc, ccc_numpy\n",
    "from affwild2_challenge.basic_emotion.metrics import expr_score, f1_score, concordance_cc2\n",
    "\n",
    "from affwild2_challenge.basic_emotion.dataset_affwild2 import AffWild2Dataset, emotiw_affwild2_mapping, affwild2_name, affwild2_emotiw_mapping, emotiw_name"
   ]
  },
  {
   "cell_type": "code",
   "execution_count": 4,
   "metadata": {},
   "outputs": [
    {
     "name": "stdout",
     "output_type": "stream",
     "text": [
      "parameters: \n",
      "+ results_dir: /home/pc/Documents/dntai/projects/Emotion/AffWild2Prj/submit/results/t24\n",
      "+ db_file: /home/pc/Documents/dntai/projects/Emotion/AffWild2Prj/data/datasets/AffWild2/data/affwild2_cropped_frames.h5\n",
      "+ db_root: /home/pc/Documents/dntai/projects/Emotion/AffWild2Prj/data/datasets/AffWild2/data/cropped\n",
      "+ scheme: emotion\n",
      "+ valid_view: True\n",
      "+ valid_file: valid.npz\n",
      "+ submit_expr_enable: True\n",
      "+ submit_expr_dir: /home/pc/Documents/dntai/projects/Emotion/AffWild2Prj/submit/submission\n",
      "+ submit_expr_type: test\n",
      "+ submit_expr_file: test.npz\n",
      "+ submit_expr_name: Challenge_Track2_Expr_CNU_ADL_Submission03\n",
      "+ submit_va_enable: False\n",
      "+ submit_va_dir: /home/pc/Documents/dntai/projects/Emotion/AffWild2Prj/submit/submission\n",
      "+ submit_va_type: test_va\n",
      "+ submit_va_file: test_va.npz\n",
      "+ submit_va_name: \n"
     ]
    }
   ],
   "source": [
    "params = {}\n",
    "params[\"results_dir\"]          = os.path.join(sub_dir, \"results\", \"t24\")\n",
    "params[\"db_file\"]              = os.path.join(dataset_dir, \"AffWild2/data/affwild2_cropped_frames.h5\")\n",
    "params[\"db_root\"]              = os.path.join(dataset_dir, \"AffWild2/data/cropped\")\n",
    "params[\"scheme\"]               = \"emotion\" # emotion, emotion_va\n",
    "\n",
    "params[\"valid_view\"]  = True   # view valid summary\n",
    "params[\"valid_file\"]  = \"valid.npz\"    # empty if not have\n",
    "\n",
    "######################################################\n",
    "params[\"submit_expr_enable\"] = True\n",
    "params[\"submit_expr_dir\"]    = os.path.join(sub_dir, \"submission\")\n",
    "\n",
    "params[\"submit_expr_type\"]   = \"test\"                                        # valid, test, test_va\n",
    "params[\"submit_expr_file\"]   = \"test.npz\"                                    # empty if not have\n",
    "params[\"submit_expr_name\"]   = \"Challenge_Track2_Expr_CNU_ADL_Submission03\"  # empty if not have\n",
    "\n",
    "# params[\"submit_expr_type\"]   = \"valid\"                                             # valid, test, test_va\n",
    "# params[\"submit_expr_file\"]   = params[\"valid_file\"]                                # empty if not have\n",
    "\n",
    "# params[\"submit_expr_name\"]   = \"Challenge_Track2_Expr_CNU_ADL_Submission01_Valid\"  # empty if not submit\n",
    "\n",
    "######################################################\n",
    "params[\"submit_va_enable\"] = False  \n",
    "params[\"submit_va_dir\"]    = os.path.join(sub_dir, \"submission\")\n",
    "\n",
    "params[\"submit_va_type\"]   = \"test_va\"                                        # valid, test, test_va\n",
    "params[\"submit_va_file\"]   = \"test_va.npz\"                                    # empty if not have\n",
    "# params[\"submit_va_name\"]   = \"Challenge_Track1_ValAro_CNU_ADL_Submission01\"     # empty if not submit\n",
    "params[\"submit_va_name\"]   = \"\"     # empty if not submit\n",
    "\n",
    "# params[\"submit_va_type\"]   = \"valid\"                                              # valid, test, test_va\n",
    "# params[\"submit_va_file\"]   = params[\"valid_file\"]                                 # empty if not have\n",
    "# params[\"submit_va_name\"]   = \"Challenge_Track1_ValAro_CNU_ADL_Submission01_Valid\" # empty if not submit\n",
    "\n",
    "print(\"parameters: \")\n",
    "for key in params.keys(): print(\"+ %s: %s\"%(key,params[key]))"
   ]
  },
  {
   "cell_type": "markdown",
   "metadata": {},
   "source": [
    "## 2. Setup Data"
   ]
  },
  {
   "cell_type": "code",
   "execution_count": 5,
   "metadata": {},
   "outputs": [
    {
     "name": "stdout",
     "output_type": "stream",
     "text": [
      "dataset_info: \n",
      "+ db_file: /home/pc/Documents/dntai/projects/Emotion/AffWild2Prj/data/datasets/AffWild2/data/affwild2_cropped_frames.h5\n",
      "+ db_root: /home/pc/Documents/dntai/projects/Emotion/AffWild2Prj/data/datasets/AffWild2/data/cropped\n",
      "Loading Scheme Emotion: \n",
      " + Loading train: 251\n",
      " + Loading valid: 69\n",
      " + Loading test: 223\n"
     ]
    }
   ],
   "source": [
    "# Dataset Configuration\n",
    "dataset_info  = dict(db_file = params[\"db_file\"], db_root = params[\"db_root\"])\n",
    "print(\"dataset_info: \")\n",
    "for key in dataset_info.keys(): print(\"+ %s: %s\"%(key,dataset_info[key]))\n",
    "    \n",
    "ds = AffWild2Dataset(**dataset_info)\n",
    "if params[\"scheme\"] == \"emotion_va\":\n",
    "    ds.load_scheme_emotion_va()\n",
    "elif params[\"scheme\"] == \"emotion\":\n",
    "    ds.load_scheme_emotion()"
   ]
  },
  {
   "cell_type": "markdown",
   "metadata": {},
   "source": [
    "## 3. Functions"
   ]
  },
  {
   "cell_type": "code",
   "execution_count": 6,
   "metadata": {},
   "outputs": [],
   "source": [
    "def submit_expr(load_name, load_type, load_dir, save_dir, a_idx_data, ds, submit_name):\n",
    "    load_path = os.path.join(load_dir, load_name)\n",
    "    save_dir  = os.path.join(save_dir, submit_name)\n",
    "    if os.path.exists(save_dir)==False: os.makedirs(save_dir)\n",
    "    \n",
    "    print(\"================================\")\n",
    "    print(f\"Submit [{load_type}] - Expr\")\n",
    "    print(f\"+ File: {load_path}\")\n",
    "    print(f\"+ Nummber of items: {len(a_idx_data)}\")\n",
    "    print(f\"+ Save folder: {save_dir}\")\n",
    "    print(\"================================\")\n",
    "    \n",
    "    y_results   = dict(np.load(load_path, allow_pickle=True))\n",
    "    df_info     = ds.df_frames.loc[a_idx_data]\n",
    "    video_names = np.unique(df_info[\"video_name\"])\n",
    "\n",
    "    # Emotion\n",
    "    y_pred_emotion_label = emotiw_affwild2_mapping[np.argmax(y_results[\"emotion\"], axis = 1)]\n",
    "    s_title_emotion      = \"Neutral,Anger,Disgust,Fear,Happiness,Sadness,Surprise\"\n",
    "    print(f\"Nummber of frames: {len(y_pred_emotion_label)}\")\n",
    "\n",
    "    for i_video in tqdm.tqdm(range(len(video_names)), desc=\"Process video\"):\n",
    "        video_name    = video_names[i_video]\n",
    "        video_path    = os.path.join(save_dir, video_name + \".txt\")\n",
    "        filter_frames = df_info[\"video_name\"]==video_name\n",
    "\n",
    "        # Emotion\n",
    "        video_emotion_pred = y_pred_emotion_label[filter_frames]\n",
    "\n",
    "        with open(video_path, \"wt\") as file:\n",
    "            file.writelines(f\"{s_title_emotion}\\n\")\n",
    "            for emotion in video_emotion_pred: file.writelines(f\"{emotion}\\n\")\n",
    "            pass\n",
    "        # with\n",
    "        pass\n",
    "    # for\n",
    "# submit_expr\n",
    "\n",
    "def submit_va(load_name, load_type, load_dir, save_dir, a_idx_data, ds, submit_name):\n",
    "    load_path = os.path.join(load_dir, load_name)\n",
    "    save_dir  = os.path.join(save_dir, submit_name)\n",
    "    if os.path.exists(save_dir)==False: os.makedirs(save_dir)\n",
    "    \n",
    "    print(\"================================\")\n",
    "    print(f\"Submit [{load_type}] - Valence-Arousal\")\n",
    "    print(f\"+ File: {load_path}\")\n",
    "    print(f\"+ Nummber of items: {len(a_idx_data)}\")\n",
    "    print(f\"+ Save folder: {save_dir}\")\n",
    "    print(\"================================\")\n",
    "    \n",
    "    y_results   = dict(np.load(load_path, allow_pickle=True))\n",
    "    df_info     = ds.df_frames.loc[a_idx_data]\n",
    "    video_names = np.unique(df_info[\"video_name\"])\n",
    "\n",
    "    # Valence-Arousal\n",
    "    aro_pred   = y_results[\"aro_ccc\"].flatten()\n",
    "    val_pred   = y_results[\"val_ccc\"].flatten()\n",
    "    s_title_va = \"valence,arousal\"\n",
    "    print(f\"Nummber of frames: {len(aro_pred)}\")\n",
    "\n",
    "    for i_video in tqdm.tqdm(range(len(video_names)), desc=\"Process video\"):\n",
    "        video_name    = video_names[i_video]\n",
    "        video_path    = os.path.join(save_dir, video_name + \".txt\")\n",
    "        filter_frames = df_info[\"video_name\"]==video_name\n",
    "\n",
    "        # Valence-Arousal\n",
    "        video_val_pred = val_pred[filter_frames]\n",
    "        video_aro_pred = aro_pred[filter_frames]\n",
    "\n",
    "        with open(video_path, \"wt\") as file:\n",
    "            file.writelines(f\"{s_title_va}\\n\")\n",
    "            for val,aro in zip(video_val_pred, video_aro_pred): file.writelines(f\"{val:.3f},{aro:.3f}\\n\")\n",
    "            pass\n",
    "        # with\n",
    "        pass\n",
    "    # for\n",
    "# submit_va\n",
    "\n",
    "# submit_expr(load_name   = params[\"valid_file\"],\n",
    "#             load_type   = \"valid\",\n",
    "#             load_dir    = params[\"results_dir\"],\n",
    "#             a_idx_data  = ds.a_idx_valid,\n",
    "#             ds          = ds,\n",
    "#             submit_name = \"Challenge_Track2_Expr_CNU_ADL_Submission01_Valid\")\n",
    "\n",
    "# submit_va(load_name     = params[\"valid_file\"],\n",
    "#             load_type   = \"valid\",\n",
    "#             load_dir    = params[\"results_dir\"],\n",
    "#             a_idx_data  = ds.a_idx_valid,\n",
    "#             ds          = ds,\n",
    "#             submit_name = \"Challenge_Track1_ValAro_CNU_ADL_Submission01_Valid\")"
   ]
  },
  {
   "cell_type": "code",
   "execution_count": 7,
   "metadata": {},
   "outputs": [],
   "source": [
    "def view_summary(load_name, load_type, load_dir, scheme_name, a_idx_data, ds):\n",
    "    load_path = os.path.join(load_dir, load_name)\n",
    "    \n",
    "    print(\"================================\")\n",
    "    print(f\"Summary [{load_type}]\")\n",
    "    print(f\"+ File: {load_path}\")\n",
    "    print(f\"+ Scheme: {scheme_name}\")\n",
    "    print(f\"+ Nummber of items: {len(a_idx_data)}\")\n",
    "    print(\"================================\")\n",
    "\n",
    "    \n",
    "    y_results            = dict(np.load(load_path, allow_pickle=True))\n",
    "    y_pred_emotion_label = emotiw_affwild2_mapping[np.argmax(y_results[\"emotion\"], axis = 1)]\n",
    "    y_true_emotion_label = ds.df_frames.loc[a_idx_data][\"expr_emotion\"].values\n",
    "\n",
    "    print(f\"Nummber of frames: {len(y_pred_emotion_label)}\")\n",
    "\n",
    "    a_summary_report = model_report(y_true_emotion_label, y_pred_emotion_label, affwild2_name)\n",
    "    s_summary_report = buffer_print_string(print_summary, a_summary_report)\n",
    "    print(s_summary_report)\n",
    "\n",
    "    f1   = a_summary_report[\"model_f1_avg_weighted\"]\n",
    "    acc  = a_summary_report[\"model_acc_all\"]\n",
    "    expr = f1 * 0.66 + acc * 0.33\n",
    "    print(f\"f1: {f1}\")\n",
    "    print(f\"acc: {acc}\")\n",
    "    print(f\"expr: {expr}\")\n",
    "\n",
    "    plt.figure(figsize=(6,6))\n",
    "    plot_confusion_matrix(y_true_emotion_label, y_pred_emotion_label, \n",
    "                          title='Average accuracy \\n ( Accuracy={acc:.2f} )\\n',\n",
    "                          classes = affwild2_name)\n",
    "\n",
    "    if scheme_name==\"emotion_va\":\n",
    "        aro_pred = y_results[\"aro_ccc\"].flatten()\n",
    "        val_pred = y_results[\"val_ccc\"].flatten()\n",
    "        aro_true = ds.df_frames.loc[a_idx_data][\"va_arousal\"].values\n",
    "        val_true = ds.df_frames.loc[a_idx_data][\"va_valence\"].values\n",
    "\n",
    "        aro_ccc1 = concordance_cc2(aro_true, aro_pred)\n",
    "        aro_ccc2 = ccc_numpy(aro_true, aro_pred)\n",
    "        val_ccc1 = concordance_cc2(val_true, val_pred)\n",
    "        val_ccc2 = ccc_numpy(val_true, val_pred)\n",
    "\n",
    "        avg_ccc1 = (aro_ccc1 + val_ccc1) / 2.0\n",
    "        avg_ccc2 = (aro_ccc2 + val_ccc2) / 2.0\n",
    "\n",
    "        print(f\"aro: {aro_ccc1}, {aro_ccc2}\")\n",
    "        print(f\"val: {val_ccc1}, {val_ccc2}\")\n",
    "        print(f\"valaro_avg: {avg_ccc1}, {avg_ccc2}\")\n",
    "    # if\n",
    "# view_summary\n",
    "\n",
    "# view_summary(load_name = params[\"valid_file\"], \n",
    "#              load_type = \"valid\", \n",
    "#              load_dir  = params[\"results_dir\"], \n",
    "#              a_idx_data= ds.a_idx_valid, \n",
    "#              ds        = ds)"
   ]
  },
  {
   "cell_type": "markdown",
   "metadata": {},
   "source": [
    "## 4. View summary"
   ]
  },
  {
   "cell_type": "code",
   "execution_count": 8,
   "metadata": {},
   "outputs": [
    {
     "name": "stdout",
     "output_type": "stream",
     "text": [
      "================================\n",
      "Summary [valid]\n",
      "+ File: /home/pc/Documents/dntai/projects/Emotion/AffWild2Prj/submit/results/t24/valid.npz\n",
      "+ Scheme: emotion\n",
      "+ Nummber of items: 319348\n",
      "================================\n",
      "Nummber of frames: 319348\n",
      "Classification Report: \n",
      "               precision    recall  f1-score   support\n",
      "\n",
      "     Neutral       0.80      0.51      0.62    182030\n",
      "       Angry       0.11      0.22      0.15      7936\n",
      "     Disgust       0.07      0.07      0.07      5807\n",
      "        Fear       0.07      0.07      0.07      9734\n",
      "       Happy       0.37      0.78      0.50     52508\n",
      "         Sad       0.44      0.47      0.45     38270\n",
      "    Surprise       0.42      0.41      0.42     23063\n",
      "\n",
      "    accuracy                           0.51    319348\n",
      "   macro avg       0.33      0.36      0.33    319348\n",
      "weighted avg       0.61      0.51      0.53    319348\n",
      "\n",
      "Confustion Matrix Int: \n",
      " [[93071 10456  2119  6295 52895  8760  8434]\n",
      " [ 1322  1709    75    23  2079  2564   164]\n",
      " [  397   146   402     3   755  3918   186]\n",
      " [ 2817   573   458   672   630  3287  1297]\n",
      " [ 4755   674   544   491 40769  3707  1568]\n",
      " [ 9247   862  1417  1453  5674 18079  1538]\n",
      " [ 4660   788   347   314  6528   895  9531]]\n",
      "\n",
      "Confustion Matrix Norm: \n",
      " [[5.11e+01 5.74e+00 1.16e+00 3.46e+00 2.91e+01 4.81e+00 4.63e+00]\n",
      " [1.67e+01 2.15e+01 9.45e-01 2.90e-01 2.62e+01 3.23e+01 2.07e+00]\n",
      " [6.84e+00 2.51e+00 6.92e+00 5.17e-02 1.30e+01 6.75e+01 3.20e+00]\n",
      " [2.89e+01 5.89e+00 4.71e+00 6.90e+00 6.47e+00 3.38e+01 1.33e+01]\n",
      " [9.06e+00 1.28e+00 1.04e+00 9.35e-01 7.76e+01 7.06e+00 2.99e+00]\n",
      " [2.42e+01 2.25e+00 3.70e+00 3.80e+00 1.48e+01 4.72e+01 4.02e+00]\n",
      " [2.02e+01 3.42e+00 1.50e+00 1.36e+00 2.83e+01 3.88e+00 4.13e+01]]\n",
      "\n",
      "Labels:\t\t ['Neutral' 'Angry' 'Disgust' 'Fear' 'Happy' 'Sad' 'Surprise']\n",
      "Accuracy:\t [0.51 0.22 0.07 0.07 0.78 0.47 0.41]  -- Acc:  51.43%\n",
      "F1:\t\t [0.62 0.15 0.07 0.07 0.5  0.45 0.42]  -- Avg:  Weighted: 0.53 - No: 0.33\n",
      "Recall:\t\t [0.51 0.22 0.07 0.07 0.78 0.47 0.41]  -- Avg:  Weighted: 0.51 - No: 0.36\n",
      "Precision:\t [0.8  0.11 0.07 0.07 0.37 0.44 0.42]  -- Avg:  Weighted: 0.61 - No: 0.33\n",
      "Support:\t [182030   7936   5807   9734  52508  38270  23063]  -- All:  319348\n",
      "\n",
      "f1: 0.530254928252507\n",
      "acc: 0.5142759622731315\n",
      "expr: 0.519679320196788\n"
     ]
    },
    {
     "data": {
      "image/png": "[encoded data removed]",
      "text/plain": [
       "<Figure size 432x432 with 1 Axes>"
      ]
     },
     "metadata": {
      "needs_background": "light"
     },
     "output_type": "display_data"
    }
   ],
   "source": [
    "if params[\"valid_file\"] != \"\" and params[\"valid_view\"] == True:\n",
    "    view_summary(load_name   = params[\"valid_file\"], \n",
    "                 load_type   = \"valid\", \n",
    "                 load_dir    = params[\"results_dir\"], \n",
    "                 scheme_name = params[\"scheme\"], \n",
    "                 a_idx_data  = ds.a_idx_valid, \n",
    "                 ds          = ds)\n",
    "# if"
   ]
  },
  {
   "cell_type": "markdown",
   "metadata": {},
   "source": [
    "## 4. Submit"
   ]
  },
  {
   "cell_type": "code",
   "execution_count": 9,
   "metadata": {},
   "outputs": [
    {
     "name": "stdout",
     "output_type": "stream",
     "text": [
      "================================\n",
      "Submit [test] - Expr\n",
      "+ File: /home/pc/Documents/dntai/projects/Emotion/AffWild2Prj/submit/results/t24/test.npz\n",
      "+ Nummber of items: 997326\n",
      "+ Save folder: /home/pc/Documents/dntai/projects/Emotion/AffWild2Prj/submit/submission/Challenge_Track2_Expr_CNU_ADL_Submission03\n",
      "================================\n"
     ]
    },
    {
     "name": "stderr",
     "output_type": "stream",
     "text": [
      "Process video:   1%|▏         | 3/223 [00:00<00:08, 27.46it/s]"
     ]
    },
    {
     "name": "stdout",
     "output_type": "stream",
     "text": [
      "Nummber of frames: 997326\n"
     ]
    },
    {
     "name": "stderr",
     "output_type": "stream",
     "text": [
      "Process video: 100%|██████████| 223/223 [00:08<00:00, 27.30it/s]\n"
     ]
    }
   ],
   "source": [
    "if params[\"submit_expr_enable\"] == True and params[\"submit_expr_file\"] != \"\" and params[\"submit_expr_name\"]!= \"\" and params[\"submit_expr_type\"]!=\"\":\n",
    "    if params[\"submit_expr_type\"] == \"valid\":\n",
    "        a_idx_submit_expr = ds.a_idx_valid\n",
    "    elif params[\"submit_expr_type\"] == \"test\":\n",
    "        a_idx_submit_expr = ds.a_idx_test\n",
    "    elif params[\"submit_expr_type\"] == \"test_va\":\n",
    "        a_idx_submit_expr = ds.a_idx_va_test\n",
    "    \n",
    "    submit_expr(load_name   = params[\"submit_expr_file\"],\n",
    "                load_type   = params[\"submit_expr_type\"],\n",
    "                load_dir    = params[\"results_dir\"],\n",
    "                save_dir    = params[\"submit_expr_dir\"],\n",
    "                a_idx_data  = a_idx_submit_expr,\n",
    "                ds          = ds,\n",
    "                submit_name = params[\"submit_expr_name\"])\n",
    "# if"
   ]
  },
  {
   "cell_type": "code",
   "execution_count": 10,
   "metadata": {},
   "outputs": [],
   "source": [
    "if params[\"submit_va_enable\"] == True and params[\"submit_va_file\"] != \"\" and params[\"submit_va_name\"]!= \"\" and params[\"submit_va_type\"]!=\"\":\n",
    "    if params[\"submit_va_type\"] == \"valid\":\n",
    "        a_idx_submit_va = ds.a_idx_valid\n",
    "    elif params[\"submit_va_type\"] == \"test\":\n",
    "        a_idx_submit_va = ds.a_idx_test\n",
    "    elif params[\"submit_va_type\"] == \"test_va\":\n",
    "        a_idx_submit_va = ds.a_idx_va_test\n",
    "    \n",
    "    submit_va(load_name   = params[\"submit_va_file\"],\n",
    "                load_type   = params[\"submit_va_type\"],\n",
    "                load_dir    = params[\"results_dir\"],\n",
    "                save_dir    = params[\"submit_va_dir\"],\n",
    "                a_idx_data  = a_idx_submit_va,\n",
    "                ds          = ds,\n",
    "                submit_name = params[\"submit_va_name\"])\n",
    "# if"
   ]
  },
  {
   "cell_type": "markdown",
   "metadata": {},
   "source": [
    "# END PROJECT"
   ]
  }
 ],
 "metadata": {
  "kernelspec": {
   "display_name": "cur37",
   "language": "python",
   "name": "cur37"
  },
  "language_info": {
   "codemirror_mode": {
    "name": "ipython",
    "version": 3
   },
   "file_extension": ".py",
   "mimetype": "text/x-python",
   "name": "python",
   "nbconvert_exporter": "python",
   "pygments_lexer": "ipython3",
   "version": "3.7.5"
  }
 },
 "nbformat": 4,
 "nbformat_minor": 4
}
