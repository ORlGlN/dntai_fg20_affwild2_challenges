{
 "cells": [
  {
   "cell_type": "markdown",
   "metadata": {},
   "source": [
    "# SUBMIT"
   ]
  },
  {
   "cell_type": "code",
   "execution_count": null,
   "metadata": {},
   "outputs": [],
   "source": [
    "from __future__ import absolute_import, division, print_function\n",
    "\n",
    "%load_ext autoreload\n",
    "%reload_ext autoreload\n",
    "%autoreload 2"
   ]
  },
  {
   "cell_type": "code",
   "execution_count": 2,
   "metadata": {},
   "outputs": [],
   "source": [
    "from config import *\n",
    "from common import *\n",
    "display.clear_output()"
   ]
  },
  {
   "cell_type": "markdown",
   "metadata": {},
   "source": [
    "## 1. Setup Environments"
   ]
  },
  {
   "cell_type": "code",
   "execution_count": 3,
   "metadata": {},
   "outputs": [],
   "source": [
    "from affwild2_challenge.basic_emotion.losses1 import ccc, loss_ccc, ccc_numpy\n",
    "from affwild2_challenge.basic_emotion.metrics import expr_score, f1_score, concordance_cc2\n",
    "\n",
    "from affwild2_challenge.basic_emotion.dataset_affwild2 import AffWild2Dataset, emotiw_affwild2_mapping, affwild2_name, affwild2_emotiw_mapping, emotiw_name"
   ]
  },
  {
   "cell_type": "code",
   "execution_count": 4,
   "metadata": {},
   "outputs": [
    {
     "name": "stdout",
     "output_type": "stream",
     "text": [
      "parameters: \n",
      "+ results_dir: /home/pc/Documents/dntai/projects/Emotion/AffWild2Prj/submit/results/t1\n",
      "+ db_file: /home/pc/Documents/dntai/projects/Emotion/AffWild2Prj/data/datasets/AffWild2/data/affwild2_cropped_aligned_frames.h5\n",
      "+ db_root: /home/pc/Documents/dntai/projects/Emotion/AffWild2Prj/data/datasets/AffWild2/data/cropped_aligned\n",
      "+ scheme: emotion_va\n",
      "+ valid_view: True\n",
      "+ valid_file: valid.npz\n",
      "+ submit_expr_enable: False\n",
      "+ submit_expr_dir: /home/pc/Documents/dntai/projects/Emotion/AffWild2Prj/submit/submission\n",
      "+ submit_expr_type: test\n",
      "+ submit_expr_file: test.npz\n",
      "+ submit_expr_name: Challenge_Track2_Expr_CNU_ADL_Submission01\n",
      "+ submit_va_enable: True\n",
      "+ submit_va_dir: /home/pc/Documents/dntai/projects/Emotion/AffWild2Prj/submit/submission\n",
      "+ submit_va_type: test_va\n",
      "+ submit_va_file: test_va.npz\n",
      "+ submit_va_name: Challenge_Track1_ValAro_CNU_ADL_Submission01\n"
     ]
    }
   ],
   "source": [
    "params = {}\n",
    "params[\"results_dir\"]          = os.path.join(sub_dir, \"results\", \"t1\")\n",
    "params[\"db_file\"]              = os.path.join(dataset_dir, \"AffWild2/data/affwild2_cropped_aligned_frames.h5\")\n",
    "params[\"db_root\"]              = os.path.join(dataset_dir, \"AffWild2/data/cropped_aligned\")\n",
    "params[\"scheme\"]               = \"emotion_va\" # emotion, emotion_va\n",
    "\n",
    "params[\"valid_view\"]  = True   # view valid summary\n",
    "params[\"valid_file\"]  = \"valid.npz\"    # empty if not have\n",
    "\n",
    "######################################################\n",
    "params[\"submit_expr_enable\"] = False\n",
    "params[\"submit_expr_dir\"]    = os.path.join(sub_dir, \"submission\")\n",
    "\n",
    "params[\"submit_expr_type\"]   = \"test\"                                        # valid, test, test_va\n",
    "params[\"submit_expr_file\"]   = \"test.npz\"                                    # empty if not have\n",
    "params[\"submit_expr_name\"]   = \"Challenge_Track2_Expr_CNU_ADL_Submission01\"  # empty if not have\n",
    "\n",
    "# params[\"submit_expr_type\"]   = \"valid\"                                             # valid, test, test_va\n",
    "# params[\"submit_expr_file\"]   = params[\"valid_file\"]                                # empty if not have\n",
    "\n",
    "# params[\"submit_expr_name\"]   = \"Challenge_Track2_Expr_CNU_ADL_Submission01_Valid\"  # empty if not submit\n",
    "\n",
    "######################################################\n",
    "params[\"submit_va_enable\"] = True  \n",
    "params[\"submit_va_dir\"]    = os.path.join(sub_dir, \"submission\")\n",
    "\n",
    "params[\"submit_va_type\"]   = \"test_va\"                                        # valid, test, test_va\n",
    "params[\"submit_va_file\"]   = \"test_va.npz\"                                    # empty if not have\n",
    "params[\"submit_va_name\"]   = \"Challenge_Track1_ValAro_CNU_ADL_Submission01\"     # empty if not submit\n",
    "\n",
    "# params[\"submit_va_type\"]   = \"valid\"                                              # valid, test, test_va\n",
    "# params[\"submit_va_file\"]   = params[\"valid_file\"]                                 # empty if not have\n",
    "# params[\"submit_va_name\"]   = \"Challenge_Track1_ValAro_CNU_ADL_Submission01_Valid\" # empty if not submit\n",
    "\n",
    "print(\"parameters: \")\n",
    "for key in params.keys(): print(\"+ %s: %s\"%(key,params[key]))"
   ]
  },
  {
   "cell_type": "markdown",
   "metadata": {},
   "source": [
    "## 2. Setup Data"
   ]
  },
  {
   "cell_type": "code",
   "execution_count": 5,
   "metadata": {},
   "outputs": [
    {
     "name": "stdout",
     "output_type": "stream",
     "text": [
      "dataset_info: \n",
      "+ db_file: /home/pc/Documents/dntai/projects/Emotion/AffWild2Prj/data/datasets/AffWild2/data/affwild2_cropped_aligned_frames.h5\n",
      "+ db_root: /home/pc/Documents/dntai/projects/Emotion/AffWild2Prj/data/datasets/AffWild2/data/cropped_aligned\n",
      "Loading Scheme Emotion VA: \n",
      " + Loading train: 194\n",
      " + Loading valid: 57\n",
      " + Loading test: 223\n",
      " + Loading va_test: 139\n"
     ]
    }
   ],
   "source": [
    "# Dataset Configuration\n",
    "dataset_info  = dict(db_file = params[\"db_file\"], db_root = params[\"db_root\"])\n",
    "print(\"dataset_info: \")\n",
    "for key in dataset_info.keys(): print(\"+ %s: %s\"%(key,dataset_info[key]))\n",
    "    \n",
    "ds = AffWild2Dataset(**dataset_info)\n",
    "if params[\"scheme\"] == \"emotion_va\":\n",
    "    ds.load_scheme_emotion_va()\n",
    "elif params[\"scheme\"] == \"emotion\":\n",
    "    ds.load_scheme_emotion()"
   ]
  },
  {
   "cell_type": "markdown",
   "metadata": {},
   "source": [
    "## 3. Functions"
   ]
  },
  {
   "cell_type": "code",
   "execution_count": 6,
   "metadata": {},
   "outputs": [],
   "source": [
    "def submit_expr(load_name, load_type, load_dir, save_dir, a_idx_data, ds, submit_name):\n",
    "    load_path = os.path.join(load_dir, load_name)\n",
    "    save_dir  = os.path.join(save_dir, submit_name)\n",
    "    if os.path.exists(save_dir)==False: os.makedirs(save_dir)\n",
    "    \n",
    "    print(\"================================\")\n",
    "    print(f\"Submit [{load_type}] - Expr\")\n",
    "    print(f\"+ File: {load_path}\")\n",
    "    print(f\"+ Nummber of items: {len(a_idx_data)}\")\n",
    "    print(f\"+ Save folder: {save_dir}\")\n",
    "    print(\"================================\")\n",
    "    \n",
    "    y_results   = dict(np.load(load_path, allow_pickle=True))\n",
    "    df_info     = ds.df_frames.loc[a_idx_data]\n",
    "    video_names = np.unique(df_info[\"video_name\"])\n",
    "\n",
    "    # Emotion\n",
    "    y_pred_emotion_label = emotiw_affwild2_mapping[np.argmax(y_results[\"emotion\"], axis = 1)]\n",
    "    s_title_emotion      = \"Neutral,Anger,Disgust,Fear,Happiness,Sadness,Surprise\"\n",
    "    print(f\"Nummber of frames: {len(y_pred_emotion_label)}\")\n",
    "\n",
    "    for i_video in tqdm.tqdm(range(len(video_names)), desc=\"Process video\"):\n",
    "        video_name    = video_names[i_video]\n",
    "        video_path    = os.path.join(save_dir, video_name + \".txt\")\n",
    "        filter_frames = df_info[\"video_name\"]==video_name\n",
    "\n",
    "        # Emotion\n",
    "        video_emotion_pred = y_pred_emotion_label[filter_frames]\n",
    "\n",
    "        with open(video_path, \"wt\") as file:\n",
    "            file.writelines(f\"{s_title_emotion}\\n\")\n",
    "            for emotion in video_emotion_pred: file.writelines(f\"{emotion}\\n\")\n",
    "            pass\n",
    "        # with\n",
    "        pass\n",
    "    # for\n",
    "# submit_expr\n",
    "\n",
    "def submit_va(load_name, load_type, load_dir, save_dir, a_idx_data, ds, submit_name):\n",
    "    load_path = os.path.join(load_dir, load_name)\n",
    "    save_dir  = os.path.join(save_dir, submit_name)\n",
    "    if os.path.exists(save_dir)==False: os.makedirs(save_dir)\n",
    "    \n",
    "    print(\"================================\")\n",
    "    print(f\"Submit [{load_type}] - Valence-Arousal\")\n",
    "    print(f\"+ File: {load_path}\")\n",
    "    print(f\"+ Nummber of items: {len(a_idx_data)}\")\n",
    "    print(f\"+ Save folder: {save_dir}\")\n",
    "    print(\"================================\")\n",
    "    \n",
    "    y_results   = dict(np.load(load_path, allow_pickle=True))\n",
    "    df_info     = ds.df_frames.loc[a_idx_data]\n",
    "    video_names = np.unique(df_info[\"video_name\"])\n",
    "\n",
    "    # Valence-Arousal\n",
    "    aro_pred   = y_results[\"aro_ccc\"].flatten()\n",
    "    val_pred   = y_results[\"val_ccc\"].flatten()\n",
    "    s_title_va = \"valence,arousal\"\n",
    "    print(f\"Nummber of frames: {len(aro_pred)}\")\n",
    "\n",
    "    for i_video in tqdm.tqdm(range(len(video_names)), desc=\"Process video\"):\n",
    "        video_name    = video_names[i_video]\n",
    "        video_path    = os.path.join(save_dir, video_name + \".txt\")\n",
    "        filter_frames = df_info[\"video_name\"]==video_name\n",
    "\n",
    "        # Valence-Arousal\n",
    "        video_val_pred = val_pred[filter_frames]\n",
    "        video_aro_pred = aro_pred[filter_frames]\n",
    "\n",
    "        with open(video_path, \"wt\") as file:\n",
    "            file.writelines(f\"{s_title_va}\\n\")\n",
    "            for val,aro in zip(video_val_pred, video_aro_pred): file.writelines(f\"{val:.3f},{aro:.3f}\\n\")\n",
    "            pass\n",
    "        # with\n",
    "        pass\n",
    "    # for\n",
    "# submit_va\n",
    "\n",
    "# submit_expr(load_name   = params[\"valid_file\"],\n",
    "#             load_type   = \"valid\",\n",
    "#             load_dir    = params[\"results_dir\"],\n",
    "#             a_idx_data  = ds.a_idx_valid,\n",
    "#             ds          = ds,\n",
    "#             submit_name = \"Challenge_Track2_Expr_CNU_ADL_Submission01_Valid\")\n",
    "\n",
    "# submit_va(load_name     = params[\"valid_file\"],\n",
    "#             load_type   = \"valid\",\n",
    "#             load_dir    = params[\"results_dir\"],\n",
    "#             a_idx_data  = ds.a_idx_valid,\n",
    "#             ds          = ds,\n",
    "#             submit_name = \"Challenge_Track1_ValAro_CNU_ADL_Submission01_Valid\")"
   ]
  },
  {
   "cell_type": "code",
   "execution_count": 7,
   "metadata": {},
   "outputs": [],
   "source": [
    "def view_summary(load_name, load_type, load_dir, scheme_name, a_idx_data, ds):\n",
    "    load_path = os.path.join(load_dir, load_name)\n",
    "    \n",
    "    print(\"================================\")\n",
    "    print(f\"Summary [{load_type}]\")\n",
    "    print(f\"+ File: {load_path}\")\n",
    "    print(f\"+ Scheme: {scheme_name}\")\n",
    "    print(f\"+ Nummber of items: {len(a_idx_data)}\")\n",
    "    print(\"================================\")\n",
    "\n",
    "    \n",
    "    y_results            = dict(np.load(load_path, allow_pickle=True))\n",
    "    y_pred_emotion_label = emotiw_affwild2_mapping[np.argmax(y_results[\"emotion\"], axis = 1)]\n",
    "    y_true_emotion_label = ds.df_frames.loc[a_idx_data][\"expr_emotion\"].values\n",
    "\n",
    "    print(f\"Nummber of frames: {len(y_pred_emotion_label)}\")\n",
    "\n",
    "    a_summary_report = model_report(y_true_emotion_label, y_pred_emotion_label, affwild2_name)\n",
    "    s_summary_report = buffer_print_string(print_summary, a_summary_report)\n",
    "    print(s_summary_report)\n",
    "\n",
    "    f1   = a_summary_report[\"model_f1_avg_weighted\"]\n",
    "    acc  = a_summary_report[\"model_acc_all\"]\n",
    "    expr = f1 * 0.66 + acc * 0.33\n",
    "    print(f\"f1: {f1}\")\n",
    "    print(f\"acc: {acc}\")\n",
    "    print(f\"expr: {expr}\")\n",
    "\n",
    "    plt.figure(figsize=(6,6))\n",
    "    plot_confusion_matrix(y_true_emotion_label, y_pred_emotion_label, \n",
    "                          title='Average accuracy \\n ( Accuracy={acc:.2f} )\\n',\n",
    "                          classes = affwild2_name)\n",
    "\n",
    "    if scheme_name==\"emotion_va\":\n",
    "        aro_pred = y_results[\"aro_ccc\"].flatten()\n",
    "        val_pred = y_results[\"val_ccc\"].flatten()\n",
    "        aro_true = ds.df_frames.loc[a_idx_data][\"va_arousal\"].values\n",
    "        val_true = ds.df_frames.loc[a_idx_data][\"va_valence\"].values\n",
    "\n",
    "        aro_ccc1 = concordance_cc2(aro_true, aro_pred)\n",
    "        aro_ccc2 = ccc_numpy(aro_true, aro_pred)\n",
    "        val_ccc1 = concordance_cc2(val_true, val_pred)\n",
    "        val_ccc2 = ccc_numpy(val_true, val_pred)\n",
    "\n",
    "        avg_ccc1 = (aro_ccc1 + val_ccc1) / 2.0\n",
    "        avg_ccc2 = (aro_ccc2 + val_ccc2) / 2.0\n",
    "\n",
    "        print(f\"aro: {aro_ccc1}, {aro_ccc2}\")\n",
    "        print(f\"val: {val_ccc1}, {val_ccc2}\")\n",
    "        print(f\"valaro_avg: {avg_ccc1}, {avg_ccc2}\")\n",
    "    # if\n",
    "# view_summary\n",
    "\n",
    "# view_summary(load_name = params[\"valid_file\"], \n",
    "#              load_type = \"valid\", \n",
    "#              load_dir  = params[\"results_dir\"], \n",
    "#              a_idx_data= ds.a_idx_valid, \n",
    "#              ds        = ds)"
   ]
  },
  {
   "cell_type": "markdown",
   "metadata": {},
   "source": [
    "## 4. View summary"
   ]
  },
  {
   "cell_type": "code",
   "execution_count": 8,
   "metadata": {},
   "outputs": [
    {
     "name": "stdout",
     "output_type": "stream",
     "text": [
      "================================\n",
      "Summary [valid]\n",
      "+ File: /home/pc/Documents/dntai/projects/Emotion/AffWild2Prj/submit/results/t1/valid.npz\n",
      "+ Scheme: emotion_va\n",
      "+ Nummber of items: 254674\n",
      "================================\n",
      "Nummber of frames: 254674\n",
      "Classification Report: \n",
      "               precision    recall  f1-score   support\n",
      "\n",
      "     Neutral       0.79      0.23      0.35    156207\n",
      "       Angry       0.10      0.36      0.15      6736\n",
      "     Disgust       0.04      0.21      0.07       986\n",
      "        Fear       0.12      0.28      0.17      8197\n",
      "       Happy       0.43      0.69      0.53     36120\n",
      "         Sad       0.39      0.55      0.45     30537\n",
      "    Surprise       0.17      0.62      0.27     15891\n",
      "\n",
      "    accuracy                           0.36    254674\n",
      "   macro avg       0.29      0.42      0.28    254674\n",
      "weighted avg       0.61      0.36      0.37    254674\n",
      "\n",
      "Confustion Matrix Int: \n",
      " [[35525 19309  2453 11148 28650 19539 39583]\n",
      " [  452  2422   293   716   776  1173   904]\n",
      " [   24   165   209    49   164   302    73]\n",
      " [  904   796  1010  2325   221  1892  1049]\n",
      " [ 2745   614   302   501 24987  2429  4542]\n",
      " [ 4508   743   680  3649  2168 16771  2018]\n",
      " [  939   771   307  1074  1603  1330  9867]]\n",
      "\n",
      "Confustion Matrix Norm: \n",
      " [[22.74 12.36  1.57  7.14 18.34 12.51 25.34]\n",
      " [ 6.71 35.96  4.35 10.63 11.52 17.41 13.42]\n",
      " [ 2.43 16.73 21.2   4.97 16.63 30.63  7.4 ]\n",
      " [11.03  9.71 12.32 28.36  2.7  23.08 12.8 ]\n",
      " [ 7.6   1.7   0.84  1.39 69.18  6.72 12.57]\n",
      " [14.76  2.43  2.23 11.95  7.1  54.92  6.61]\n",
      " [ 5.91  4.85  1.93  6.76 10.09  8.37 62.09]]\n",
      "\n",
      "Labels:\t\t ['Neutral' 'Angry' 'Disgust' 'Fear' 'Happy' 'Sad' 'Surprise']\n",
      "Accuracy:\t [0.23 0.36 0.21 0.28 0.69 0.55 0.62]  -- Acc:  36.17%\n",
      "F1:\t\t [0.35 0.15 0.07 0.17 0.53 0.45 0.27]  -- Avg:  Weighted: 0.37 - No: 0.28\n",
      "Recall:\t\t [0.23 0.36 0.21 0.28 0.69 0.55 0.62]  -- Avg:  Weighted: 0.36 - No: 0.42\n",
      "Precision:\t [0.79 0.1  0.04 0.12 0.43 0.39 0.17]  -- Avg:  Weighted: 0.61 - No: 0.29\n",
      "Support:\t [156207   6736    986   8197  36120  30537  15891]  -- All:  254674\n",
      "\n",
      "f1: 0.3720942820024919\n",
      "acc: 0.3616623605079435\n",
      "expr: 0.364930805089266\n",
      "aro: 0.4589738356487134, 0.45897563751225123\n",
      "val: 0.5388691415050282, 0.5388712574618042\n",
      "valaro_avg: 0.4989214885768708, 0.4989234474870277\n"
     ]
    },
    {
     "data": {
      "image/png": "[encoded data removed]",
      "text/plain": [
       "<Figure size 432x432 with 1 Axes>"
      ]
     },
     "metadata": {
      "needs_background": "light"
     },
     "output_type": "display_data"
    }
   ],
   "source": [
    "if params[\"valid_file\"] != \"\" and params[\"valid_view\"] == True:\n",
    "    view_summary(load_name   = params[\"valid_file\"], \n",
    "                 load_type   = \"valid\", \n",
    "                 load_dir    = params[\"results_dir\"], \n",
    "                 scheme_name = params[\"scheme\"], \n",
    "                 a_idx_data  = ds.a_idx_valid, \n",
    "                 ds          = ds)\n",
    "# if"
   ]
  },
  {
   "cell_type": "markdown",
   "metadata": {},
   "source": [
    "## 4. Submit"
   ]
  },
  {
   "cell_type": "code",
   "execution_count": 9,
   "metadata": {},
   "outputs": [],
   "source": [
    "if params[\"submit_expr_enable\"] == True and params[\"submit_expr_file\"] != \"\" and params[\"submit_expr_name\"]!= \"\" and params[\"submit_expr_type\"]!=\"\":\n",
    "    if params[\"submit_expr_type\"] == \"valid\":\n",
    "        a_idx_submit_expr = ds.a_idx_valid\n",
    "    elif params[\"submit_expr_type\"] == \"test\":\n",
    "        a_idx_submit_expr = ds.a_idx_test\n",
    "    elif params[\"submit_expr_type\"] == \"test_va\":\n",
    "        a_idx_submit_expr = ds.a_idx_va_test\n",
    "    \n",
    "    submit_expr(load_name   = params[\"submit_expr_file\"],\n",
    "                load_type   = params[\"submit_expr_type\"],\n",
    "                load_dir    = params[\"results_dir\"],\n",
    "                save_dir    = params[\"submit_expr_dir\"],\n",
    "                a_idx_data  = a_idx_submit_expr,\n",
    "                ds          = ds,\n",
    "                submit_name = params[\"submit_expr_name\"])\n",
    "# if"
   ]
  },
  {
   "cell_type": "code",
   "execution_count": 10,
   "metadata": {},
   "outputs": [
    {
     "name": "stdout",
     "output_type": "stream",
     "text": [
      "================================\n",
      "Submit [test_va] - Valence-Arousal\n",
      "+ File: /home/pc/Documents/dntai/projects/Emotion/AffWild2Prj/submit/results/t1/test_va.npz\n",
      "+ Nummber of items: 714986\n",
      "+ Save folder: /home/pc/Documents/dntai/projects/Emotion/AffWild2Prj/submit/submission/Challenge_Track1_ValAro_CNU_ADL_Submission01\n",
      "================================\n"
     ]
    },
    {
     "name": "stderr",
     "output_type": "stream",
     "text": [
      "Process video:   2%|▏         | 3/139 [00:00<00:07, 18.46it/s]"
     ]
    },
    {
     "name": "stdout",
     "output_type": "stream",
     "text": [
      "Nummber of frames: 714986\n"
     ]
    },
    {
     "name": "stderr",
     "output_type": "stream",
     "text": [
      "Process video: 100%|██████████| 139/139 [00:05<00:00, 24.80it/s]\n"
     ]
    }
   ],
   "source": [
    "if params[\"submit_va_enable\"] == True and params[\"submit_va_file\"] != \"\" and params[\"submit_va_name\"]!= \"\" and params[\"submit_va_type\"]!=\"\":\n",
    "    if params[\"submit_va_type\"] == \"valid\":\n",
    "        a_idx_submit_va = ds.a_idx_valid\n",
    "    elif params[\"submit_va_type\"] == \"test\":\n",
    "        a_idx_submit_va = ds.a_idx_test\n",
    "    elif params[\"submit_va_type\"] == \"test_va\":\n",
    "        a_idx_submit_va = ds.a_idx_va_test\n",
    "    \n",
    "    submit_va(load_name   = params[\"submit_va_file\"],\n",
    "                load_type   = params[\"submit_va_type\"],\n",
    "                load_dir    = params[\"results_dir\"],\n",
    "                save_dir    = params[\"submit_va_dir\"],\n",
    "                a_idx_data  = a_idx_submit_va,\n",
    "                ds          = ds,\n",
    "                submit_name = params[\"submit_va_name\"])\n",
    "# if"
   ]
  },
  {
   "cell_type": "markdown",
   "metadata": {},
   "source": [
    "# END PROJECT"
   ]
  }
 ],
 "metadata": {
  "kernelspec": {
   "display_name": "cur37",
   "language": "python",
   "name": "cur37"
  },
  "language_info": {
   "codemirror_mode": {
    "name": "ipython",
    "version": 3
   },
   "file_extension": ".py",
   "mimetype": "text/x-python",
   "name": "python",
   "nbconvert_exporter": "python",
   "pygments_lexer": "ipython3",
   "version": "3.7.5"
  }
 },
 "nbformat": 4,
 "nbformat_minor": 4
}
