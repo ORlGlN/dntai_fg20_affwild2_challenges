{
 "cells": [
  {
   "cell_type": "markdown",
   "metadata": {},
   "source": [
    "# Fusion"
   ]
  },
  {
   "cell_type": "code",
   "execution_count": 91,
   "metadata": {},
   "outputs": [
    {
     "name": "stdout",
     "output_type": "stream",
     "text": [
      "The autoreload extension is already loaded. To reload it, use:\n",
      "  %reload_ext autoreload\n"
     ]
    }
   ],
   "source": [
    "from __future__ import absolute_import, division, print_function\n",
    "\n",
    "%load_ext autoreload\n",
    "%reload_ext autoreload\n",
    "%autoreload 2"
   ]
  },
  {
   "cell_type": "code",
   "execution_count": 92,
   "metadata": {},
   "outputs": [],
   "source": [
    "from config import *\n",
    "from common import *\n",
    "display.clear_output()"
   ]
  },
  {
   "cell_type": "markdown",
   "metadata": {},
   "source": [
    "## 1. Setup Environments"
   ]
  },
  {
   "cell_type": "code",
   "execution_count": 93,
   "metadata": {},
   "outputs": [],
   "source": [
    "from affwild2_challenge.basic_emotion.losses1 import ccc, loss_ccc, ccc_numpy\n",
    "from affwild2_challenge.basic_emotion.metrics import expr_score, f1_score, concordance_cc2\n",
    "\n",
    "from affwild2_challenge.basic_emotion.dataset_affwild2 import AffWild2Dataset, emotiw_affwild2_mapping, affwild2_name, affwild2_emotiw_mapping, emotiw_name"
   ]
  },
  {
   "cell_type": "code",
   "execution_count": 124,
   "metadata": {},
   "outputs": [
    {
     "name": "stdout",
     "output_type": "stream",
     "text": [
      "parameters: \n",
      "+ results_dir: /home/pc/Documents/dntai/projects/Emotion/AffWild2Prj/submit/results/t26\n",
      "+ db_file: /home/pc/Documents/dntai/projects/Emotion/AffWild2Prj/data/datasets/AffWild2/data/affwild2_cropped_aligned_frames.h5\n",
      "+ db_root: /home/pc/Documents/dntai/projects/Emotion/AffWild2Prj/data/datasets/AffWild2/data/cropped_aligned\n",
      "+ db_file_1: /home/pc/Documents/dntai/projects/Emotion/AffWild2Prj/data/datasets/AffWild2/data/affwild2_cropped_frames.h5\n",
      "+ db_root_1: /home/pc/Documents/dntai/projects/Emotion/AffWild2Prj/data/datasets/AffWild2/data/cropped\n",
      "+ valid_files: ['/home/pc/Documents/dntai/projects/Emotion/AffWild2Prj/submit/results/t11/valid_32.npz', '/home/pc/Documents/dntai/projects/Emotion/AffWild2Prj/submit/results/t22/valid_16.npz', '/home/pc/Documents/dntai/projects/Emotion/AffWild2Prj/submit/results/t24/valid.npz']\n",
      "+ test_files: ['/home/pc/Documents/dntai/projects/Emotion/AffWild2Prj/submit/results/t11/test_32.npz', '/home/pc/Documents/dntai/projects/Emotion/AffWild2Prj/submit/results/t22/test_16.npz', '/home/pc/Documents/dntai/projects/Emotion/AffWild2Prj/submit/results/t24/test_1.npz']\n",
      "+ scheme: emotion\n"
     ]
    }
   ],
   "source": [
    "params = {}\n",
    "params[\"results_dir\"]   = os.path.join(sub_dir, \"results\", \"t26\")\n",
    "params[\"db_file\"]       = os.path.join(dataset_dir, \"AffWild2/data/affwild2_cropped_aligned_frames.h5\")\n",
    "params[\"db_root\"]       = os.path.join(dataset_dir, \"AffWild2/data/cropped_aligned\")\n",
    "\n",
    "params[\"db_file_1\"]       = os.path.join(dataset_dir, \"AffWild2/data/affwild2_cropped_frames.h5\")\n",
    "params[\"db_root_1\"]       = os.path.join(dataset_dir, \"AffWild2/data/cropped\")\n",
    "\n",
    "params[\"valid_files\"]   = [os.path.join(sub_dir, \"results\", \"t11\", \"valid_32.npz\"), # cropped_aligned emotion\n",
    "                           os.path.join(sub_dir, \"results\", \"t22\", \"valid_16.npz\"), # cropped_aligned emotion_va\n",
    "                           os.path.join(sub_dir, \"results\", \"t24\", \"valid.npz\")]    # cropped emotion\n",
    "\n",
    "params[\"test_files\"]   = [os.path.join(sub_dir, \"results\", \"t11\", \"test_32.npz\"), \n",
    "                           os.path.join(sub_dir, \"results\", \"t22\", \"test_16.npz\"), \n",
    "                           os.path.join(sub_dir, \"results\", \"t24\", \"test_1.npz\")]\n",
    "\n",
    "\n",
    "# params[\"test_va_files\"]   = [os.path.join(sub_dir, \"results\", \"t1\", \"test_va.npz\"), \n",
    "#                            os.path.join(sub_dir, \"results\", \"t16\", \"test_va_32.npz\"), \n",
    "#                            os.path.join(sub_dir, \"results\", \"t22\", \"test_va_16.npz\")]\n",
    "\n",
    "params[\"scheme\"]        = \"emotion\"\n",
    "\n",
    "print(\"parameters: \")\n",
    "for key in params.keys(): print(\"+ %s: %s\"%(key,params[key]))"
   ]
  },
  {
   "cell_type": "markdown",
   "metadata": {},
   "source": [
    "## 2. Setup Data"
   ]
  },
  {
   "cell_type": "code",
   "execution_count": 125,
   "metadata": {},
   "outputs": [
    {
     "name": "stdout",
     "output_type": "stream",
     "text": [
      "dataset_info: \n",
      "+ db_file: /home/pc/Documents/dntai/projects/Emotion/AffWild2Prj/data/datasets/AffWild2/data/affwild2_cropped_aligned_frames.h5\n",
      "+ db_root: /home/pc/Documents/dntai/projects/Emotion/AffWild2Prj/data/datasets/AffWild2/data/cropped_aligned\n",
      "dataset_info_1: \n",
      "+ db_file: /home/pc/Documents/dntai/projects/Emotion/AffWild2Prj/data/datasets/AffWild2/data/affwild2_cropped_frames.h5\n",
      "+ db_root: /home/pc/Documents/dntai/projects/Emotion/AffWild2Prj/data/datasets/AffWild2/data/cropped\n"
     ]
    }
   ],
   "source": [
    "# Dataset Configuration\n",
    "dataset_info  = dict(db_file = params[\"db_file\"], db_root = params[\"db_root\"])\n",
    "print(\"dataset_info: \")\n",
    "for key in dataset_info.keys(): print(\"+ %s: %s\"%(key,dataset_info[key]))\n",
    "    \n",
    "ds = AffWild2Dataset(**dataset_info)\n",
    "\n",
    "# Dataset Configuration\n",
    "dataset_info_1  = dict(db_file = params[\"db_file_1\"], db_root = params[\"db_root_1\"])\n",
    "print(\"dataset_info_1: \")\n",
    "for key in dataset_info_1.keys(): print(\"+ %s: %s\"%(key,dataset_info_1[key]))\n",
    "    \n",
    "ds1 = AffWild2Dataset(**dataset_info_1)"
   ]
  },
  {
   "cell_type": "code",
   "execution_count": 126,
   "metadata": {},
   "outputs": [
    {
     "name": "stdout",
     "output_type": "stream",
     "text": [
      "Loading Scheme Emotion VA: \n",
      " + Loading train: 194\n",
      " + Loading valid: 57\n",
      " + Loading test: 223\n",
      " + Loading va_test: 139\n",
      "Loading Scheme Emotion: \n",
      " + Loading train: 251\n",
      " + Loading valid: 69\n",
      " + Loading test: 223\n",
      "Loading Scheme Emotion: \n",
      " + Loading train: 251\n",
      " + Loading valid: 69\n",
      " + Loading test: 223\n"
     ]
    }
   ],
   "source": [
    "ds.load_scheme_emotion_va()\n",
    "idx2 = ds.a_idx_valid\n",
    "\n",
    "ds.load_scheme_emotion()\n",
    "idx1 = ds.a_idx_valid\n",
    "\n",
    "ds1.load_scheme_emotion()\n",
    "idx3 = ds.a_idx_valid"
   ]
  },
  {
   "cell_type": "code",
   "execution_count": 127,
   "metadata": {},
   "outputs": [],
   "source": [
    "idx_all = np.arange(len(ds.df_frames))\n",
    "\n",
    "filter_union = np.zeros(len(ds.df_frames), np.int)\n",
    "filter_union[idx1] = filter_union[idx1] + 1\n",
    "filter_union[idx2] = filter_union[idx2] + 1\n",
    "filter_union[idx3] = filter_union[idx3] + 1\n",
    "\n",
    "idx_union = idx_all[filter_union==3]\n",
    "\n",
    "dict_idx1 = dict(zip(idx1, range(len(idx1))))\n",
    "dict_idx2 = dict(zip(idx2, range(len(idx2))))\n",
    "dict_idx3 = dict(zip(idx3, range(len(idx3))))\n",
    "\n",
    "mapping_idx1 = [dict_idx1[i] for i in idx_union]\n",
    "mapping_idx2 = [dict_idx2[i] for i in idx_union]\n",
    "mapping_idx3 = [dict_idx3[i] for i in idx_union]"
   ]
  },
  {
   "cell_type": "code",
   "execution_count": 128,
   "metadata": {},
   "outputs": [],
   "source": [
    "def avg_fusion_v1(save_dir, save_name, fusion_files, has_va = True, a_idx_mapping = None):\n",
    "    y_pred_fusion_emotion = []\n",
    "    y_pred_fusion_aro     = []\n",
    "    y_pred_fusion_val     = []\n",
    "    y_fusion_results      = {}\n",
    "    for load_path, idx_mapping in zip(fusion_files, a_idx_mapping):\n",
    "        y_results = dict(np.load(load_path, allow_pickle=True))\n",
    "        y_pred_emotion = y_results[\"emotion\"][idx_mapping]\n",
    "        print(y_pred_emotion.shape)\n",
    "        y_pred_fusion_emotion.append(y_pred_emotion)\n",
    "        \n",
    "        if has_va == True:\n",
    "            y_pred_aro     = y_results[\"aro_ccc\"][idx_mapping].flatten()\n",
    "            y_pred_fusion_aro.append(y_pred_aro)\n",
    "\n",
    "            y_pred_val     = y_results[\"val_ccc\"][idx_mapping].flatten()\n",
    "            y_pred_fusion_val.append(y_pred_val)\n",
    "        # if\n",
    "    # for\n",
    "    \n",
    "    y_pred_fusion_emotion = np.array(y_pred_fusion_emotion)\n",
    "    y_pred_fusion_emotion = np.average(y_pred_fusion_emotion, axis = 0)\n",
    "    y_fusion_results[\"emotion\"] = y_pred_fusion_emotion\n",
    "    \n",
    "    if has_va == True:\n",
    "        y_pred_fusion_aro     = np.array(y_pred_fusion_aro)\n",
    "        y_pred_fusion_aro     = np.average(y_pred_fusion_aro, axis = 0)\n",
    "        y_fusion_results[\"aro_ccc\"] = y_pred_fusion_aro\n",
    "\n",
    "        y_pred_fusion_val     = np.array(y_pred_fusion_val)\n",
    "        y_pred_fusion_val     = np.average(y_pred_fusion_val, axis = 0)\n",
    "        y_fusion_results[\"val_ccc\"] = y_pred_fusion_val\n",
    "    # if\n",
    "    \n",
    "    if os.path.exists(save_dir) == False: os.makedirs(save_dir)\n",
    "    save_path = os.path.join(save_dir, save_name)\n",
    "    np.savez(save_path, **y_fusion_results)\n",
    "    \n",
    "    return y_fusion_results\n",
    "# avg_fusion\n",
    "\n",
    "def avg_fusion(save_dir, save_name, fusion_files, has_va = True):\n",
    "    y_pred_fusion_emotion = []\n",
    "    y_pred_fusion_aro     = []\n",
    "    y_pred_fusion_val     = []\n",
    "    y_fusion_results      = {}\n",
    "    for load_path in fusion_files:\n",
    "        y_results = dict(np.load(load_path, allow_pickle=True))\n",
    "        y_pred_emotion = y_results[\"emotion\"]\n",
    "        print(y_pred_emotion.shape)\n",
    "        y_pred_fusion_emotion.append(y_pred_emotion)\n",
    "        \n",
    "        if has_va == True:\n",
    "            y_pred_aro     = y_results[\"aro_ccc\"].flatten()\n",
    "            y_pred_fusion_aro.append(y_pred_aro)\n",
    "\n",
    "            y_pred_val     = y_results[\"val_ccc\"].flatten()\n",
    "            y_pred_fusion_val.append(y_pred_val)\n",
    "        # if\n",
    "    # for\n",
    "    \n",
    "    y_pred_fusion_emotion = np.array(y_pred_fusion_emotion)\n",
    "    y_pred_fusion_emotion = np.average(y_pred_fusion_emotion, axis = 0)\n",
    "    y_fusion_results[\"emotion\"] = y_pred_fusion_emotion\n",
    "    \n",
    "    if has_va == True:\n",
    "        y_pred_fusion_aro     = np.array(y_pred_fusion_aro)\n",
    "        y_pred_fusion_aro     = np.average(y_pred_fusion_aro, axis = 0)\n",
    "        y_fusion_results[\"aro_ccc\"] = y_pred_fusion_aro\n",
    "\n",
    "        y_pred_fusion_val     = np.array(y_pred_fusion_val)\n",
    "        y_pred_fusion_val     = np.average(y_pred_fusion_val, axis = 0)\n",
    "        y_fusion_results[\"val_ccc\"] = y_pred_fusion_val\n",
    "    # if\n",
    "    \n",
    "    if os.path.exists(save_dir) == False: os.makedirs(save_dir)\n",
    "    save_path = os.path.join(save_dir, save_name)\n",
    "    np.savez(save_path, **y_fusion_results)\n",
    "    \n",
    "    return y_fusion_results\n",
    "# avg_fusion\n",
    "\n",
    "def view_summary(load_name, load_type, load_dir, scheme_name, a_idx_data, ds):\n",
    "    load_path = os.path.join(load_dir, load_name)\n",
    "    \n",
    "    print(\"================================\")\n",
    "    print(f\"Summary [{load_type}]\")\n",
    "    print(f\"+ File: {load_path}\")\n",
    "    print(f\"+ Scheme: {scheme_name}\")\n",
    "    print(f\"+ Nummber of items: {len(a_idx_data)}\")\n",
    "    print(\"================================\")\n",
    "\n",
    "    \n",
    "    y_results            = dict(np.load(load_path, allow_pickle=True))\n",
    "    y_pred_emotion_label = emotiw_affwild2_mapping[np.argmax(y_results[\"emotion\"], axis = 1)]\n",
    "    y_true_emotion_label = ds.df_frames.loc[a_idx_data][\"expr_emotion\"].values\n",
    "\n",
    "    print(f\"Nummber of frames: {len(y_pred_emotion_label)}\")\n",
    "\n",
    "    a_summary_report = model_report(y_true_emotion_label, y_pred_emotion_label, affwild2_name)\n",
    "    s_summary_report = buffer_print_string(print_summary, a_summary_report)\n",
    "    print(s_summary_report)\n",
    "\n",
    "    f1   = a_summary_report[\"model_f1_avg_weighted\"]\n",
    "    acc  = a_summary_report[\"model_acc_all\"]\n",
    "    expr = f1 * 0.66 + acc * 0.33\n",
    "    print(f\"f1: {f1}\")\n",
    "    print(f\"acc: {acc}\")\n",
    "    print(f\"expr: {expr}\")\n",
    "\n",
    "    plt.figure(figsize=(6,6))\n",
    "    plot_confusion_matrix(y_true_emotion_label, y_pred_emotion_label, \n",
    "                          title='Average accuracy \\n ( Accuracy={acc:.2f} )\\n',\n",
    "                          classes = affwild2_name)\n",
    "\n",
    "    if scheme_name==\"emotion_va\":\n",
    "        aro_pred = y_results[\"aro_ccc\"].flatten()\n",
    "        val_pred = y_results[\"val_ccc\"].flatten()\n",
    "        aro_true = ds.df_frames.loc[a_idx_data][\"va_arousal\"].values\n",
    "        val_true = ds.df_frames.loc[a_idx_data][\"va_valence\"].values\n",
    "\n",
    "        aro_ccc1 = concordance_cc2(aro_true, aro_pred)\n",
    "        aro_ccc2 = ccc_numpy(aro_true, aro_pred)\n",
    "        val_ccc1 = concordance_cc2(val_true, val_pred)\n",
    "        val_ccc2 = ccc_numpy(val_true, val_pred)\n",
    "\n",
    "        avg_ccc1 = (aro_ccc1 + val_ccc1) / 2.0\n",
    "        avg_ccc2 = (aro_ccc2 + val_ccc2) / 2.0\n",
    "\n",
    "        print(f\"aro: {aro_ccc1}, {aro_ccc2}\")\n",
    "        print(f\"val: {val_ccc1}, {val_ccc2}\")\n",
    "        print(f\"valaro_avg: {avg_ccc1}, {avg_ccc2}\")\n",
    "    # if\n",
    "# view_summary"
   ]
  },
  {
   "cell_type": "markdown",
   "metadata": {},
   "source": [
    "## Valid"
   ]
  },
  {
   "cell_type": "code",
   "execution_count": 129,
   "metadata": {},
   "outputs": [
    {
     "name": "stdout",
     "output_type": "stream",
     "text": [
      "(254674, 7)\n",
      "(254674, 7)\n",
      "(254674, 7)\n",
      "================================\n",
      "Summary [valid]\n",
      "+ File: /home/pc/Documents/dntai/projects/Emotion/AffWild2Prj/submit/results/t26/valid.npz\n",
      "+ Scheme: emotion\n",
      "+ Nummber of items: 254674\n",
      "================================\n",
      "Nummber of frames: 254674\n",
      "Classification Report: \n",
      "               precision    recall  f1-score   support\n",
      "\n",
      "     Neutral       0.84      0.49      0.61    156207\n",
      "       Angry       0.11      0.25      0.15      6736\n",
      "     Disgust       0.05      0.19      0.08       986\n",
      "        Fear       0.11      0.14      0.12      8197\n",
      "       Happy       0.41      0.76      0.54     36120\n",
      "         Sad       0.52      0.54      0.53     30537\n",
      "    Surprise       0.27      0.60      0.37     15891\n",
      "\n",
      "    accuracy                           0.52    254674\n",
      "   macro avg       0.33      0.42      0.34    254674\n",
      "weighted avg       0.66      0.52      0.55    254674\n",
      "\n",
      "Confustion Matrix Int: \n",
      " [[75924 11294  1850  5749 32362  9037 19991]\n",
      " [  757  1708    63   458  1402  1701   647]\n",
      " [   67   137   183    11   273   180   135]\n",
      " [ 2039   452   808  1174   225  2273  1226]\n",
      " [ 3088   389   187   309 27433  1592  3122]\n",
      " [ 6808   657   488  2766  2450 16467   901]\n",
      " [ 2238   967   225   307  2186   381  9587]]\n",
      "\n",
      "Confustion Matrix Norm: \n",
      " [[48.6   7.23  1.18  3.68 20.72  5.79 12.8 ]\n",
      " [11.24 25.36  0.94  6.8  20.81 25.25  9.61]\n",
      " [ 6.8  13.89 18.56  1.12 27.69 18.26 13.69]\n",
      " [24.87  5.51  9.86 14.32  2.74 27.73 14.96]\n",
      " [ 8.55  1.08  0.52  0.86 75.95  4.41  8.64]\n",
      " [22.29  2.15  1.6   9.06  8.02 53.92  2.95]\n",
      " [14.08  6.09  1.42  1.93 13.76  2.4  60.33]]\n",
      "\n",
      "Labels:\t\t ['Neutral' 'Angry' 'Disgust' 'Fear' 'Happy' 'Sad' 'Surprise']\n",
      "Accuracy:\t [0.49 0.25 0.19 0.14 0.76 0.54 0.6 ]  -- Acc:  52.02%\n",
      "F1:\t\t [0.61 0.15 0.08 0.12 0.54 0.53 0.37]  -- Avg:  Weighted: 0.55 - No: 0.34\n",
      "Recall:\t\t [0.49 0.25 0.19 0.14 0.76 0.54 0.6 ]  -- Avg:  Weighted: 0.52 - No: 0.42\n",
      "Precision:\t [0.84 0.11 0.05 0.11 0.41 0.52 0.27]  -- Avg:  Weighted: 0.66 - No: 0.33\n",
      "Support:\t [156207   6736    986   8197  36120  30537  15891]  -- All:  254674\n",
      "\n",
      "f1: 0.547910202523714\n",
      "acc: 0.5201787383085827\n",
      "expr: 0.5332797173074836\n"
     ]
    },
    {
     "data": {
      "image/png": "[encoded data removed]",
      "text/plain": [
       "<Figure size 432x432 with 1 Axes>"
      ]
     },
     "metadata": {
      "needs_background": "light"
     },
     "output_type": "display_data"
    }
   ],
   "source": [
    "y_valid_fusion_results = avg_fusion_v1(save_dir=params[\"results_dir\"], \n",
    "                                    save_name=\"valid.npz\", \n",
    "                                    fusion_files = params[\"valid_files\"], \n",
    "                                    has_va = False,\n",
    "                                    a_idx_mapping = [mapping_idx1, mapping_idx2, mapping_idx3])\n",
    "\n",
    "view_summary(load_name   = \"valid.npz\", \n",
    "             load_type   = \"valid\", \n",
    "             load_dir    = params[\"results_dir\"], \n",
    "             scheme_name = params[\"scheme\"], \n",
    "             a_idx_data  = idx_union, \n",
    "             ds          = ds)"
   ]
  },
  {
   "cell_type": "markdown",
   "metadata": {},
   "source": [
    "## Test & TestVA"
   ]
  },
  {
   "cell_type": "code",
   "execution_count": 130,
   "metadata": {},
   "outputs": [
    {
     "name": "stdout",
     "output_type": "stream",
     "text": [
      "(997332, 7)\n",
      "(997332, 7)\n",
      "(997332, 7)\n"
     ]
    }
   ],
   "source": [
    "y_test_fusion_results = avg_fusion(save_dir=params[\"results_dir\"], \n",
    "                                    save_name=\"test.npz\", \n",
    "                                    fusion_files = params[\"test_files\"], \n",
    "                                    has_va = False)\n",
    "\n",
    "# y_va_test_fusion_results = avg_fusion(save_dir=params[\"results_dir\"], \n",
    "#                                     save_name=\"test_va.npz\", \n",
    "#                                     fusion_files = params[\"test_va_files\"], \n",
    "#                                     has_va = True)"
   ]
  },
  {
   "cell_type": "code",
   "execution_count": null,
   "metadata": {},
   "outputs": [],
   "source": []
  }
 ],
 "metadata": {
  "kernelspec": {
   "display_name": "cur37",
   "language": "python",
   "name": "cur37"
  },
  "language_info": {
   "codemirror_mode": {
    "name": "ipython",
    "version": 3
   },
   "file_extension": ".py",
   "mimetype": "text/x-python",
   "name": "python",
   "nbconvert_exporter": "python",
   "pygments_lexer": "ipython3",
   "version": "3.7.5"
  }
 },
 "nbformat": 4,
 "nbformat_minor": 4
}
