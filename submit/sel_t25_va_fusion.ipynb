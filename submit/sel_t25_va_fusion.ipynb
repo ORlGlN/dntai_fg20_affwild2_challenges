{
 "cells": [
  {
   "cell_type": "markdown",
   "metadata": {},
   "source": [
    "# Fusion"
   ]
  },
  {
   "cell_type": "code",
   "execution_count": 69,
   "metadata": {},
   "outputs": [
    {
     "name": "stdout",
     "output_type": "stream",
     "text": [
      "The autoreload extension is already loaded. To reload it, use:\n",
      "  %reload_ext autoreload\n"
     ]
    }
   ],
   "source": [
    "from __future__ import absolute_import, division, print_function\n",
    "\n",
    "%load_ext autoreload\n",
    "%reload_ext autoreload\n",
    "%autoreload 2"
   ]
  },
  {
   "cell_type": "code",
   "execution_count": 70,
   "metadata": {},
   "outputs": [],
   "source": [
    "from config import *\n",
    "from common import *\n",
    "display.clear_output()"
   ]
  },
  {
   "cell_type": "markdown",
   "metadata": {},
   "source": [
    "## 1. Setup Environments"
   ]
  },
  {
   "cell_type": "code",
   "execution_count": 71,
   "metadata": {},
   "outputs": [],
   "source": [
    "from affwild2_challenge.basic_emotion.losses1 import ccc, loss_ccc, ccc_numpy\n",
    "from affwild2_challenge.basic_emotion.metrics import expr_score, f1_score, concordance_cc2\n",
    "\n",
    "from affwild2_challenge.basic_emotion.dataset_affwild2 import AffWild2Dataset, emotiw_affwild2_mapping, affwild2_name, affwild2_emotiw_mapping, emotiw_name"
   ]
  },
  {
   "cell_type": "code",
   "execution_count": 72,
   "metadata": {},
   "outputs": [
    {
     "name": "stdout",
     "output_type": "stream",
     "text": [
      "parameters: \n",
      "+ results_dir: /home/pc/Documents/dntai/projects/Emotion/AffWild2Prj/submit/results/t25\n",
      "+ db_file: /home/pc/Documents/dntai/projects/Emotion/AffWild2Prj/data/datasets/AffWild2/data/affwild2_cropped_aligned_frames.h5\n",
      "+ db_root: /home/pc/Documents/dntai/projects/Emotion/AffWild2Prj/data/datasets/AffWild2/data/cropped_aligned\n",
      "+ valid_files: ['/home/pc/Documents/dntai/projects/Emotion/AffWild2Prj/submit/results/t1/valid.npz', '/home/pc/Documents/dntai/projects/Emotion/AffWild2Prj/submit/results/t16/valid_32.npz', '/home/pc/Documents/dntai/projects/Emotion/AffWild2Prj/submit/results/t22/valid_16.npz']\n",
      "+ test_va_files: ['/home/pc/Documents/dntai/projects/Emotion/AffWild2Prj/submit/results/t1/test_va.npz', '/home/pc/Documents/dntai/projects/Emotion/AffWild2Prj/submit/results/t16/test_va_32.npz', '/home/pc/Documents/dntai/projects/Emotion/AffWild2Prj/submit/results/t22/test_va_16.npz']\n",
      "+ scheme: emotion_va\n"
     ]
    }
   ],
   "source": [
    "params = {}\n",
    "params[\"results_dir\"]   = os.path.join(sub_dir, \"results\", \"t25\")\n",
    "params[\"db_file\"]       = os.path.join(dataset_dir, \"AffWild2/data/affwild2_cropped_aligned_frames.h5\")\n",
    "params[\"db_root\"]       = os.path.join(dataset_dir, \"AffWild2/data/cropped_aligned\")\n",
    "\n",
    "params[\"valid_files\"]   = [os.path.join(sub_dir, \"results\", \"t1\", \"valid.npz\"), \n",
    "                           os.path.join(sub_dir, \"results\", \"t16\", \"valid_32.npz\"), \n",
    "                           os.path.join(sub_dir, \"results\", \"t22\", \"valid_16.npz\")]\n",
    "\n",
    "# params[\"test_files\"]   = [os.path.join(sub_dir, \"results\", \"t1\", \"test.npz\"), \n",
    "#                            os.path.join(sub_dir, \"results\", \"t16\", \"test_32.npz\"), \n",
    "#                            os.path.join(sub_dir, \"results\", \"t22\", \"test_16.npz\")]\n",
    "\n",
    "\n",
    "params[\"test_va_files\"]   = [os.path.join(sub_dir, \"results\", \"t1\", \"test_va.npz\"), \n",
    "                           os.path.join(sub_dir, \"results\", \"t16\", \"test_va_32.npz\"), \n",
    "                           os.path.join(sub_dir, \"results\", \"t22\", \"test_va_16.npz\")]\n",
    "\n",
    "params[\"scheme\"]        = \"emotion_va\"\n",
    "\n",
    "print(\"parameters: \")\n",
    "for key in params.keys(): print(\"+ %s: %s\"%(key,params[key]))"
   ]
  },
  {
   "cell_type": "code",
   "execution_count": 73,
   "metadata": {},
   "outputs": [],
   "source": [
    "## 2. Setup Data"
   ]
  },
  {
   "cell_type": "code",
   "execution_count": 74,
   "metadata": {},
   "outputs": [
    {
     "name": "stdout",
     "output_type": "stream",
     "text": [
      "dataset_info: \n",
      "+ db_file: /home/pc/Documents/dntai/projects/Emotion/AffWild2Prj/data/datasets/AffWild2/data/affwild2_cropped_aligned_frames.h5\n",
      "+ db_root: /home/pc/Documents/dntai/projects/Emotion/AffWild2Prj/data/datasets/AffWild2/data/cropped_aligned\n",
      "Loading Scheme Emotion VA: \n",
      " + Loading train: 194\n",
      " + Loading valid: 57\n",
      " + Loading test: 223\n",
      " + Loading va_test: 139\n"
     ]
    }
   ],
   "source": [
    "# Dataset Configuration\n",
    "dataset_info  = dict(db_file = params[\"db_file\"], db_root = params[\"db_root\"])\n",
    "print(\"dataset_info: \")\n",
    "for key in dataset_info.keys(): print(\"+ %s: %s\"%(key,dataset_info[key]))\n",
    "    \n",
    "ds = AffWild2Dataset(**dataset_info)\n",
    "if params[\"scheme\"] == \"emotion_va\":\n",
    "    ds.load_scheme_emotion_va()\n",
    "elif params[\"scheme\"] == \"emotion\":\n",
    "    ds.load_scheme_emotion()"
   ]
  },
  {
   "cell_type": "code",
   "execution_count": 75,
   "metadata": {},
   "outputs": [],
   "source": [
    "def avg_fusion(save_dir, save_name, fusion_files, has_va = True):\n",
    "    y_pred_fusion_emotion = []\n",
    "    y_pred_fusion_aro     = []\n",
    "    y_pred_fusion_val     = []\n",
    "    y_fusion_results      = {}\n",
    "    for load_path in fusion_files:\n",
    "        y_results = dict(np.load(load_path, allow_pickle=True))\n",
    "        y_pred_emotion = y_results[\"emotion\"]\n",
    "        y_pred_fusion_emotion.append(y_pred_emotion)\n",
    "        \n",
    "        if has_va == True:\n",
    "            y_pred_aro     = y_results[\"aro_ccc\"].flatten()\n",
    "            y_pred_fusion_aro.append(y_pred_aro)\n",
    "\n",
    "            y_pred_val     = y_results[\"val_ccc\"].flatten()\n",
    "            y_pred_fusion_val.append(y_pred_val)\n",
    "        # if\n",
    "    # for\n",
    "    \n",
    "    y_pred_fusion_emotion = np.array(y_pred_fusion_emotion)\n",
    "    y_pred_fusion_emotion = np.average(y_pred_fusion_emotion, axis = 0)\n",
    "    y_fusion_results[\"emotion\"] = y_pred_fusion_emotion\n",
    "    \n",
    "    if has_va == True:\n",
    "        y_pred_fusion_aro     = np.array(y_pred_fusion_aro)\n",
    "        y_pred_fusion_aro     = np.average(y_pred_fusion_aro, axis = 0)\n",
    "        y_fusion_results[\"aro_ccc\"] = y_pred_fusion_aro\n",
    "\n",
    "        y_pred_fusion_val     = np.array(y_pred_fusion_val)\n",
    "        y_pred_fusion_val     = np.average(y_pred_fusion_val, axis = 0)\n",
    "        y_fusion_results[\"val_ccc\"] = y_pred_fusion_val\n",
    "    # if\n",
    "    \n",
    "    if os.path.exists(save_dir) == False: os.makedirs(save_dir)\n",
    "    save_path = os.path.join(save_dir, save_name)\n",
    "    np.savez(save_path, **y_fusion_results)\n",
    "    \n",
    "    return y_fusion_results\n",
    "# avg_fusion\n",
    "\n",
    "def view_summary(load_name, load_type, load_dir, scheme_name, a_idx_data, ds):\n",
    "    load_path = os.path.join(load_dir, load_name)\n",
    "    \n",
    "    print(\"================================\")\n",
    "    print(f\"Summary [{load_type}]\")\n",
    "    print(f\"+ File: {load_path}\")\n",
    "    print(f\"+ Scheme: {scheme_name}\")\n",
    "    print(f\"+ Nummber of items: {len(a_idx_data)}\")\n",
    "    print(\"================================\")\n",
    "\n",
    "    \n",
    "    y_results            = dict(np.load(load_path, allow_pickle=True))\n",
    "    y_pred_emotion_label = emotiw_affwild2_mapping[np.argmax(y_results[\"emotion\"], axis = 1)]\n",
    "    y_true_emotion_label = ds.df_frames.loc[a_idx_data][\"expr_emotion\"].values\n",
    "\n",
    "    print(f\"Nummber of frames: {len(y_pred_emotion_label)}\")\n",
    "\n",
    "    a_summary_report = model_report(y_true_emotion_label, y_pred_emotion_label, affwild2_name)\n",
    "    s_summary_report = buffer_print_string(print_summary, a_summary_report)\n",
    "    print(s_summary_report)\n",
    "\n",
    "    f1   = a_summary_report[\"model_f1_avg_weighted\"]\n",
    "    acc  = a_summary_report[\"model_acc_all\"]\n",
    "    expr = f1 * 0.66 + acc * 0.33\n",
    "    print(f\"f1: {f1}\")\n",
    "    print(f\"acc: {acc}\")\n",
    "    print(f\"expr: {expr}\")\n",
    "\n",
    "    plt.figure(figsize=(6,6))\n",
    "    plot_confusion_matrix(y_true_emotion_label, y_pred_emotion_label, \n",
    "                          title='Average accuracy \\n ( Accuracy={acc:.2f} )\\n',\n",
    "                          classes = affwild2_name)\n",
    "\n",
    "    if scheme_name==\"emotion_va\":\n",
    "        aro_pred = y_results[\"aro_ccc\"].flatten()\n",
    "        val_pred = y_results[\"val_ccc\"].flatten()\n",
    "        aro_true = ds.df_frames.loc[a_idx_data][\"va_arousal\"].values\n",
    "        val_true = ds.df_frames.loc[a_idx_data][\"va_valence\"].values\n",
    "\n",
    "        aro_ccc1 = concordance_cc2(aro_true, aro_pred)\n",
    "        aro_ccc2 = ccc_numpy(aro_true, aro_pred)\n",
    "        val_ccc1 = concordance_cc2(val_true, val_pred)\n",
    "        val_ccc2 = ccc_numpy(val_true, val_pred)\n",
    "\n",
    "        avg_ccc1 = (aro_ccc1 + val_ccc1) / 2.0\n",
    "        avg_ccc2 = (aro_ccc2 + val_ccc2) / 2.0\n",
    "\n",
    "        print(f\"aro: {aro_ccc1}, {aro_ccc2}\")\n",
    "        print(f\"val: {val_ccc1}, {val_ccc2}\")\n",
    "        print(f\"valaro_avg: {avg_ccc1}, {avg_ccc2}\")\n",
    "    # if\n",
    "# view_summary"
   ]
  },
  {
   "cell_type": "markdown",
   "metadata": {},
   "source": [
    "## Valid"
   ]
  },
  {
   "cell_type": "code",
   "execution_count": 76,
   "metadata": {},
   "outputs": [
    {
     "name": "stdout",
     "output_type": "stream",
     "text": [
      "================================\n",
      "Summary [valid]\n",
      "+ File: /home/pc/Documents/dntai/projects/Emotion/AffWild2Prj/submit/results/t25/valid.npz\n",
      "+ Scheme: emotion_va\n",
      "+ Nummber of items: 254674\n",
      "================================\n",
      "Nummber of frames: 254674\n",
      "Classification Report: \n",
      "               precision    recall  f1-score   support\n",
      "\n",
      "     Neutral       0.79      0.23      0.35    156207\n",
      "       Angry       0.10      0.41      0.17      6736\n",
      "     Disgust       0.02      0.19      0.04       986\n",
      "        Fear       0.13      0.27      0.17      8197\n",
      "       Happy       0.41      0.66      0.51     36120\n",
      "         Sad       0.38      0.53      0.45     30537\n",
      "    Surprise       0.18      0.64      0.27     15891\n",
      "\n",
      "    accuracy                           0.36    254674\n",
      "   macro avg       0.29      0.42      0.28    254674\n",
      "weighted avg       0.61      0.36      0.37    254674\n",
      "\n",
      "Confustion Matrix Int: \n",
      " [[35240 20673  4457  9555 28331 20029 37922]\n",
      " [  508  2776   198   624   740   924   966]\n",
      " [   29   218   185    50   182   207   115]\n",
      " [ 1094   557  1252  2201   179  1722  1192]\n",
      " [ 2738   704   323   428 24011  2396  5520]\n",
      " [ 4072   735  1030  3622  2804 16313  1961]\n",
      " [ 1109  1102   347   576  1727   899 10131]]\n",
      "\n",
      "Confustion Matrix Norm: \n",
      " [[22.56 13.23  2.85  6.12 18.14 12.82 24.28]\n",
      " [ 7.54 41.21  2.94  9.26 10.99 13.72 14.34]\n",
      " [ 2.94 22.11 18.76  5.07 18.46 20.99 11.66]\n",
      " [13.35  6.8  15.27 26.85  2.18 21.01 14.54]\n",
      " [ 7.58  1.95  0.89  1.18 66.48  6.63 15.28]\n",
      " [13.33  2.41  3.37 11.86  9.18 53.42  6.42]\n",
      " [ 6.98  6.93  2.18  3.62 10.87  5.66 63.75]]\n",
      "\n",
      "Labels:\t\t ['Neutral' 'Angry' 'Disgust' 'Fear' 'Happy' 'Sad' 'Surprise']\n",
      "Accuracy:\t [0.23 0.41 0.19 0.27 0.66 0.53 0.64]  -- Acc:  35.68%\n",
      "F1:\t\t [0.35 0.17 0.04 0.17 0.51 0.45 0.27]  -- Avg:  Weighted: 0.37 - No: 0.28\n",
      "Recall:\t\t [0.23 0.41 0.19 0.27 0.66 0.53 0.64]  -- Avg:  Weighted: 0.36 - No: 0.42\n",
      "Precision:\t [0.79 0.1  0.02 0.13 0.41 0.38 0.18]  -- Avg:  Weighted: 0.61 - No: 0.29\n",
      "Support:\t [156207   6736    986   8197  36120  30537  15891]  -- All:  254674\n",
      "\n",
      "f1: 0.3683422415364637\n",
      "acc: 0.35675805146972206\n",
      "expr: 0.36083603639907436\n",
      "aro: 0.47614172673163213, 0.4761435963343559\n",
      "val: 0.5555537833284495, 0.5555559614427921\n",
      "valaro_avg: 0.5158477550300409, 0.515849778888574\n"
     ]
    },
    {
     "data": {
      "image/png": "[encoded data removed]",
      "text/plain": [
       "<Figure size 432x432 with 1 Axes>"
      ]
     },
     "metadata": {
      "needs_background": "light"
     },
     "output_type": "display_data"
    }
   ],
   "source": [
    "y_valid_fusion_results = avg_fusion(save_dir=params[\"results_dir\"], \n",
    "                                    save_name=\"valid.npz\", \n",
    "                                    fusion_files = params[\"valid_files\"], \n",
    "                                    has_va = True)\n",
    "\n",
    "view_summary(load_name   = \"valid.npz\", \n",
    "             load_type   = \"valid\", \n",
    "             load_dir    = params[\"results_dir\"], \n",
    "             scheme_name = params[\"scheme\"], \n",
    "             a_idx_data  = ds.a_idx_valid, \n",
    "             ds          = ds)"
   ]
  },
  {
   "cell_type": "markdown",
   "metadata": {},
   "source": [
    "## Test & TestVA"
   ]
  },
  {
   "cell_type": "code",
   "execution_count": 77,
   "metadata": {},
   "outputs": [],
   "source": [
    "# y_test_fusion_results = avg_fusion(save_dir=params[\"results_dir\"], \n",
    "#                                     save_name=\"test.npz\", \n",
    "#                                     fusion_files = params[\"test_files\"], \n",
    "#                                     has_va = True)\n",
    "\n",
    "y_va_test_fusion_results = avg_fusion(save_dir=params[\"results_dir\"], \n",
    "                                    save_name=\"test_va.npz\", \n",
    "                                    fusion_files = params[\"test_va_files\"], \n",
    "                                    has_va = True)"
   ]
  },
  {
   "cell_type": "code",
   "execution_count": null,
   "metadata": {},
   "outputs": [],
   "source": []
  }
 ],
 "metadata": {
  "kernelspec": {
   "display_name": "cur37",
   "language": "python",
   "name": "cur37"
  },
  "language_info": {
   "codemirror_mode": {
    "name": "ipython",
    "version": 3
   },
   "file_extension": ".py",
   "mimetype": "text/x-python",
   "name": "python",
   "nbconvert_exporter": "python",
   "pygments_lexer": "ipython3",
   "version": "3.7.5"
  }
 },
 "nbformat": 4,
 "nbformat_minor": 4
}
