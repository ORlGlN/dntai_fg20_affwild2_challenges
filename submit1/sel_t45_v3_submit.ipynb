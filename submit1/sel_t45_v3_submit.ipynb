{
 "cells": [
  {
   "cell_type": "markdown",
   "metadata": {},
   "source": [
    "# SUBMIT"
   ]
  },
  {
   "cell_type": "code",
   "execution_count": 1,
   "metadata": {},
   "outputs": [],
   "source": [
    "from __future__ import absolute_import, division, print_function\n",
    "\n",
    "%load_ext autoreload\n",
    "%reload_ext autoreload\n",
    "%autoreload 2"
   ]
  },
  {
   "cell_type": "code",
   "execution_count": 2,
   "metadata": {},
   "outputs": [],
   "source": [
    "from config import *\n",
    "from common import *\n",
    "display.clear_output()"
   ]
  },
  {
   "cell_type": "markdown",
   "metadata": {},
   "source": [
    "## 1. Setup Environments"
   ]
  },
  {
   "cell_type": "code",
   "execution_count": 3,
   "metadata": {},
   "outputs": [],
   "source": [
    "from affwild2_challenge.basic_emotion_v1.dataset_affwild2 import AffWild2Dataset, emotiw_affwild2_mapping, affwild2_name, affwild2_emotiw_mapping, emotiw_name\n",
    "from affwild2_challenge.basic_emotion_v1.submission import submit_expr, submit_va, view_summary"
   ]
  },
  {
   "cell_type": "code",
   "execution_count": 4,
   "metadata": {},
   "outputs": [
    {
     "name": "stdout",
     "output_type": "stream",
     "text": [
      "parameters: \n",
      "+ results_dir: /home/pc/Documents/dntai/projects/Emotion/AffWild2Prj/submit1/results/t45\n",
      "+ db_file: /home/pc/Documents/dntai/projects/Emotion/AffWild2Prj/data/datasets/AffWild2/data/affwild2_cropped_frames_v1.h5\n",
      "+ db_root: /home/pc/Documents/dntai/projects/Emotion/AffWild2Prj/data/datasets/AffWild2/data/cropped\n",
      "+ scheme: emotion_va\n",
      "+ valid_view: True\n",
      "+ valid_file: valid_16.npz\n",
      "+ submit_expr_enable: False\n",
      "+ submit_expr_dir: /home/pc/Documents/dntai/projects/Emotion/AffWild2Prj/submit1/submission\n",
      "+ submit_expr_type: test\n",
      "+ submit_expr_file: test.npz\n",
      "+ submit_expr_name: \n",
      "+ submit_va_enable: True\n",
      "+ submit_va_dir: /home/pc/Documents/dntai/projects/Emotion/AffWild2Prj/submit1/submission\n",
      "+ submit_va_type: test_va\n",
      "+ submit_va_file: test_va_16.npz\n",
      "+ submit_va_name: Challenge_Track1_ValAro_CNU_ADL_Submission03\n"
     ]
    }
   ],
   "source": [
    "params = {}\n",
    "params[\"results_dir\"]          = os.path.join(sub_dir, \"results\", \"t45\")\n",
    "params[\"db_file\"]              = os.path.join(dataset_dir, \"AffWild2/data/affwild2_cropped_frames_v1.h5\")\n",
    "params[\"db_root\"]              = os.path.join(dataset_dir, \"AffWild2/data/cropped\")\n",
    "params[\"scheme\"]               = \"emotion_va\" # emotion, emotion_va\n",
    "\n",
    "params[\"valid_view\"]           = True   # view valid summary\n",
    "params[\"valid_file\"]           = \"valid_16.npz\"    # empty if not have\n",
    "\n",
    "######################################################\n",
    "params[\"submit_expr_enable\"] = False\n",
    "params[\"submit_expr_dir\"]    = os.path.join(sub_dir, \"submission\")\n",
    "\n",
    "params[\"submit_expr_type\"]   = \"test\"                                        # valid, test, test_va\n",
    "params[\"submit_expr_file\"]   = \"test.npz\"                                    # empty if not have\n",
    "# params[\"submit_expr_name\"]   = \"Challenge_Track2_Expr_CNU_ADL_Submission01\"  # empty if not have\n",
    "params[\"submit_expr_name\"]   = \"\"  # empty if not have\n",
    "\n",
    "# params[\"submit_expr_type\"]   = \"valid\"                                             # valid, test, test_va\n",
    "# params[\"submit_expr_file\"]   = params[\"valid_file\"]                                # empty if not have\n",
    "\n",
    "# params[\"submit_expr_name\"]   = \"Challenge_Track2_Expr_CNU_ADL_Submission01_Valid\"  # empty if not submit\n",
    "\n",
    "######################################################\n",
    "params[\"submit_va_enable\"] = True  \n",
    "params[\"submit_va_dir\"]    = os.path.join(sub_dir, \"submission\")\n",
    "\n",
    "params[\"submit_va_type\"]   = \"test_va\"                                        # valid, test, test_va\n",
    "params[\"submit_va_file\"]   = \"test_va_16.npz\"                                    # empty if not have\n",
    "params[\"submit_va_name\"]   = \"Challenge_Track1_ValAro_CNU_ADL_Submission03\"     # empty if not submit\n",
    "# params[\"submit_va_name\"]   = \"\"                                               # empty if not submit\n",
    "\n",
    "# params[\"submit_va_type\"]   = \"valid\"                                              # valid, test, test_va\n",
    "# params[\"submit_va_file\"]   = params[\"valid_file\"]                                 # empty if not have\n",
    "# params[\"submit_va_name\"]   = \"Challenge_Track1_ValAro_CNU_ADL_Submission01_Valid\" # empty if not submit\n",
    "\n",
    "print(\"parameters: \")\n",
    "for key in params.keys(): print(\"+ %s: %s\"%(key,params[key]))"
   ]
  },
  {
   "cell_type": "markdown",
   "metadata": {},
   "source": [
    "## 2. Setup Data"
   ]
  },
  {
   "cell_type": "code",
   "execution_count": 5,
   "metadata": {},
   "outputs": [
    {
     "name": "stdout",
     "output_type": "stream",
     "text": [
      "dataset_info: \n",
      "+ db_file: /home/pc/Documents/dntai/projects/Emotion/AffWild2Prj/data/datasets/AffWild2/data/affwild2_cropped_frames_v1.h5\n",
      "+ db_root: /home/pc/Documents/dntai/projects/Emotion/AffWild2Prj/data/datasets/AffWild2/data/cropped\n",
      "Loading Scheme Emotion VA: \n",
      " + Loading train: 194\n",
      " + Loading valid: 57\n",
      " + Loading test: 223\n",
      " + Loading va_test: 139\n"
     ]
    }
   ],
   "source": [
    "# Dataset Configuration\n",
    "dataset_info  = dict(db_file = params[\"db_file\"], db_root = params[\"db_root\"])\n",
    "print(\"dataset_info: \")\n",
    "for key in dataset_info.keys(): print(\"+ %s: %s\"%(key,dataset_info[key]))\n",
    "    \n",
    "ds = AffWild2Dataset(**dataset_info)\n",
    "if params[\"scheme\"] == \"emotion_va\":\n",
    "    ds.load_scheme_emotion_va()\n",
    "elif params[\"scheme\"] == \"emotion\":\n",
    "    ds.load_scheme_emotion()"
   ]
  },
  {
   "cell_type": "markdown",
   "metadata": {},
   "source": [
    "## 3. Functions"
   ]
  },
  {
   "cell_type": "code",
   "execution_count": 6,
   "metadata": {},
   "outputs": [],
   "source": [
    "# submit_expr(load_name   = params[\"submit_expr_file\"],\n",
    "#             load_type   = params[\"submit_expr_type\"],\n",
    "#             load_dir    = params[\"results_dir\"],\n",
    "#             save_dir    = params[\"submit_expr_dir\"],\n",
    "#             a_idx_data  = ds.a_idx_test,\n",
    "#             ds          = ds,\n",
    "#             submit_name = params[\"submit_expr_name\"])"
   ]
  },
  {
   "cell_type": "code",
   "execution_count": 7,
   "metadata": {},
   "outputs": [],
   "source": [
    "# x = submit_va(load_name   = params[\"submit_va_file\"],\n",
    "#           load_type   = params[\"submit_va_type\"],\n",
    "#           load_dir    = params[\"results_dir\"],\n",
    "#           save_dir    = params[\"submit_va_dir\"],\n",
    "#           a_idx_data  = ds.a_idx_va_test,\n",
    "#           ds          = ds,\n",
    "#           submit_name = params[\"submit_va_name\"])"
   ]
  },
  {
   "cell_type": "code",
   "execution_count": 8,
   "metadata": {},
   "outputs": [],
   "source": [
    "# view_summary(load_name = params[\"valid_file\"], \n",
    "#              load_type = \"valid\", \n",
    "#              load_dir  = params[\"results_dir\"], \n",
    "#              a_idx_data= ds.a_idx_valid, \n",
    "#              ds        = ds)"
   ]
  },
  {
   "cell_type": "markdown",
   "metadata": {},
   "source": [
    "## 4. View summary"
   ]
  },
  {
   "cell_type": "code",
   "execution_count": 9,
   "metadata": {},
   "outputs": [
    {
     "name": "stdout",
     "output_type": "stream",
     "text": [
      "================================\n",
      "Summary [valid]\n",
      "+ File: /home/pc/Documents/dntai/projects/Emotion/AffWild2Prj/submit1/results/t45/valid_16.npz\n",
      "+ Scheme: emotion_va\n",
      "+ Nummber of items: 255683\n",
      "================================\n",
      "Nummber of frames: 255683\n",
      "Classification Report: \n",
      "               precision    recall  f1-score   support\n",
      "\n",
      "     Neutral       0.83      0.31      0.45    156069\n",
      "       Angry       0.14      0.42      0.21      6803\n",
      "     Disgust       0.06      0.40      0.10       977\n",
      "        Fear       0.10      0.10      0.10      8152\n",
      "       Happy       0.41      0.77      0.54     36605\n",
      "         Sad       0.40      0.60      0.48     31186\n",
      "    Surprise       0.21      0.62      0.32     15891\n",
      "\n",
      "    accuracy                           0.43    255683\n",
      "   macro avg       0.31      0.46      0.31    255683\n",
      "weighted avg       0.63      0.43      0.44    255683\n",
      "\n",
      "Confustion Matrix Int: \n",
      " [[48558 14946  3618  6564 33801 19146 29436]\n",
      " [  560  2856    97   106   699  1980   505]\n",
      " [   37   103   386    20   124   206   101]\n",
      " [  873   441   902   825   360  3244  1507]\n",
      " [ 1446   389   191   133 28336  2903  3207]\n",
      " [ 5659   786  1178   554  3099 18792  1118]\n",
      " [ 1520  1453   244   417  1959   504  9794]]\n",
      "\n",
      "Confustion Matrix Norm: \n",
      " [[31.11  9.58  2.32  4.21 21.66 12.27 18.86]\n",
      " [ 8.23 41.98  1.43  1.56 10.27 29.1   7.42]\n",
      " [ 3.79 10.54 39.51  2.05 12.69 21.08 10.34]\n",
      " [10.71  5.41 11.06 10.12  4.42 39.79 18.49]\n",
      " [ 3.95  1.06  0.52  0.36 77.41  7.93  8.76]\n",
      " [18.15  2.52  3.78  1.78  9.94 60.26  3.58]\n",
      " [ 9.57  9.14  1.54  2.62 12.33  3.17 61.63]]\n",
      "\n",
      "Labels:\t\t ['Neutral' 'Angry' 'Disgust' 'Fear' 'Happy' 'Sad' 'Surprise']\n",
      "Accuracy:\t [0.31 0.42 0.4  0.1  0.77 0.6  0.62]  -- Acc:  42.84%\n",
      "F1:\t\t [0.45 0.21 0.1  0.1  0.54 0.48 0.32]  -- Avg:  Weighted: 0.44 - No: 0.31\n",
      "Recall:\t\t [0.31 0.42 0.4  0.1  0.77 0.6  0.62]  -- Avg:  Weighted: 0.43 - No: 0.46\n",
      "Precision:\t [0.83 0.14 0.06 0.1  0.41 0.4  0.21]  -- Avg:  Weighted: 0.63 - No: 0.31\n",
      "Support:\t [156069   6803    977   8152  36605  31186  15891]  -- All:  255683\n",
      "\n",
      "f1: 0.4409339834659741\n",
      "acc: 0.4284485085046718\n",
      "expr: 0.43240443689408464\n",
      "aro: 0.5699264778808114, 0.5699287062703713\n",
      "val: 0.458235186203884, 0.4582369747675311\n",
      "valaro_avg: 0.5140808320423477, 0.5140828405189513\n"
     ]
    },
    {
     "data": {
      "image/png": "[encoded data removed]",
      "text/plain": [
       "<Figure size 432x432 with 1 Axes>"
      ]
     },
     "metadata": {
      "needs_background": "light"
     },
     "output_type": "display_data"
    }
   ],
   "source": [
    "if params[\"valid_file\"] != \"\" and params[\"valid_view\"] == True:\n",
    "    view_summary(load_name   = params[\"valid_file\"], \n",
    "                 load_type   = \"valid\", \n",
    "                 load_dir    = params[\"results_dir\"], \n",
    "                 scheme_name = params[\"scheme\"], \n",
    "                 a_idx_data  = ds.a_idx_valid, \n",
    "                 ds          = ds)\n",
    "# if"
   ]
  },
  {
   "cell_type": "markdown",
   "metadata": {},
   "source": [
    "## 4. Submit"
   ]
  },
  {
   "cell_type": "code",
   "execution_count": 10,
   "metadata": {},
   "outputs": [],
   "source": [
    "if params[\"submit_expr_enable\"] == True and params[\"submit_expr_file\"] != \"\" and params[\"submit_expr_name\"]!= \"\" and params[\"submit_expr_type\"]!=\"\":\n",
    "    if params[\"submit_expr_type\"] == \"valid\":\n",
    "        a_idx_submit_expr = ds.a_idx_valid\n",
    "    elif params[\"submit_expr_type\"] == \"test\":\n",
    "        a_idx_submit_expr = ds.a_idx_test\n",
    "    elif params[\"submit_expr_type\"] == \"test_va\":\n",
    "        a_idx_submit_expr = ds.a_idx_va_test\n",
    "    \n",
    "    submit_expr(load_name   = params[\"submit_expr_file\"],\n",
    "                load_type   = params[\"submit_expr_type\"],\n",
    "                load_dir    = params[\"results_dir\"],\n",
    "                save_dir    = params[\"submit_expr_dir\"],\n",
    "                a_idx_data  = a_idx_submit_expr,\n",
    "                ds          = ds,\n",
    "                submit_name = params[\"submit_expr_name\"])\n",
    "# if"
   ]
  },
  {
   "cell_type": "code",
   "execution_count": 11,
   "metadata": {},
   "outputs": [
    {
     "name": "stdout",
     "output_type": "stream",
     "text": [
      "================================\n",
      "Submit [test_va] - Valence-Arousal\n",
      "+ File: /home/pc/Documents/dntai/projects/Emotion/AffWild2Prj/submit1/results/t45/test_va_16.npz\n",
      "+ Nummber of items: 716665\n",
      "+ Save folder: /home/pc/Documents/dntai/projects/Emotion/AffWild2Prj/submit1/submission/Challenge_Track1_ValAro_CNU_ADL_Submission03\n",
      "================================\n"
     ]
    },
    {
     "name": "stderr",
     "output_type": "stream",
     "text": [
      "Process video:   0%|          | 0/139 [00:00<?, ?it/s]/home/pc/Documents/dntai/.conda/envs/cur37/lib/python3.7/site-packages/pandas/core/indexing.py:376: SettingWithCopyWarning: \n",
      "A value is trying to be set on a copy of a slice from a DataFrame.\n",
      "Try using .loc[row_indexer,col_indexer] = value instead\n",
      "\n",
      "See the caveats in the documentation: http://pandas.pydata.org/pandas-docs/stable/user_guide/indexing.html#returning-a-view-versus-a-copy\n",
      "  self.obj[key] = _infer_fill_value(value)\n",
      "/home/pc/Documents/dntai/.conda/envs/cur37/lib/python3.7/site-packages/pandas/core/indexing.py:494: SettingWithCopyWarning: \n",
      "A value is trying to be set on a copy of a slice from a DataFrame.\n",
      "Try using .loc[row_indexer,col_indexer] = value instead\n",
      "\n",
      "See the caveats in the documentation: http://pandas.pydata.org/pandas-docs/stable/user_guide/indexing.html#returning-a-view-versus-a-copy\n",
      "  self.obj[item] = s\n",
      "Process video:   1%|          | 1/139 [00:00<00:17,  7.79it/s]"
     ]
    },
    {
     "name": "stdout",
     "output_type": "stream",
     "text": [
      "Nummber of frames: 716665\n"
     ]
    },
    {
     "name": "stderr",
     "output_type": "stream",
     "text": [
      "Process video: 100%|██████████| 139/139 [00:15<00:00,  9.26it/s]\n"
     ]
    }
   ],
   "source": [
    "if params[\"submit_va_enable\"] == True and params[\"submit_va_file\"] != \"\" and params[\"submit_va_name\"]!= \"\" and params[\"submit_va_type\"]!=\"\":\n",
    "    if params[\"submit_va_type\"] == \"valid\":\n",
    "        a_idx_submit_va = ds.a_idx_valid\n",
    "    elif params[\"submit_va_type\"] == \"test\":\n",
    "        a_idx_submit_va = ds.a_idx_test\n",
    "    elif params[\"submit_va_type\"] == \"test_va\":\n",
    "        a_idx_submit_va = ds.a_idx_va_test\n",
    "    \n",
    "    submit_va(load_name   = params[\"submit_va_file\"],\n",
    "                load_type   = params[\"submit_va_type\"],\n",
    "                load_dir    = params[\"results_dir\"],\n",
    "                save_dir    = params[\"submit_va_dir\"],\n",
    "                a_idx_data  = a_idx_submit_va,\n",
    "                ds          = ds,\n",
    "                submit_name = params[\"submit_va_name\"])\n",
    "# if"
   ]
  },
  {
   "cell_type": "markdown",
   "metadata": {},
   "source": [
    "# END PROJECT"
   ]
  }
 ],
 "metadata": {
  "kernelspec": {
   "display_name": "cur37",
   "language": "python",
   "name": "cur37"
  },
  "language_info": {
   "codemirror_mode": {
    "name": "ipython",
    "version": 3
   },
   "file_extension": ".py",
   "mimetype": "text/x-python",
   "name": "python",
   "nbconvert_exporter": "python",
   "pygments_lexer": "ipython3",
   "version": "3.7.5"
  }
 },
 "nbformat": 4,
 "nbformat_minor": 4
}
