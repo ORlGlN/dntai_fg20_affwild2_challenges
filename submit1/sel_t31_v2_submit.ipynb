{
 "cells": [
  {
   "cell_type": "markdown",
   "metadata": {},
   "source": [
    "# SUBMIT"
   ]
  },
  {
   "cell_type": "code",
   "execution_count": 1,
   "metadata": {},
   "outputs": [],
   "source": [
    "from __future__ import absolute_import, division, print_function\n",
    "\n",
    "%load_ext autoreload\n",
    "%reload_ext autoreload\n",
    "%autoreload 2"
   ]
  },
  {
   "cell_type": "code",
   "execution_count": 2,
   "metadata": {},
   "outputs": [],
   "source": [
    "from config import *\n",
    "from common import *\n",
    "display.clear_output()"
   ]
  },
  {
   "cell_type": "markdown",
   "metadata": {},
   "source": [
    "## 1. Setup Environments"
   ]
  },
  {
   "cell_type": "code",
   "execution_count": 3,
   "metadata": {},
   "outputs": [],
   "source": [
    "from affwild2_challenge.basic_emotion_v1.dataset_affwild2 import AffWild2Dataset, emotiw_affwild2_mapping, affwild2_name, affwild2_emotiw_mapping, emotiw_name\n",
    "from affwild2_challenge.basic_emotion_v1.submission import submit_expr, submit_va, view_summary"
   ]
  },
  {
   "cell_type": "code",
   "execution_count": 4,
   "metadata": {},
   "outputs": [
    {
     "name": "stdout",
     "output_type": "stream",
     "text": [
      "parameters: \n",
      "+ results_dir: /home/pc/Documents/dntai/projects/Emotion/AffWild2Prj/submit1/results/t31\n",
      "+ db_file: /home/pc/Documents/dntai/projects/Emotion/AffWild2Prj/data/datasets/AffWild2/data/affwild2_cropped_frames_v1.h5\n",
      "+ db_root: /home/pc/Documents/dntai/projects/Emotion/AffWild2Prj/data/datasets/AffWild2/data/cropped\n",
      "+ scheme: emotion_va\n",
      "+ valid_view: True\n",
      "+ valid_file: valid_16.npz\n",
      "+ submit_expr_enable: False\n",
      "+ submit_expr_dir: /home/pc/Documents/dntai/projects/Emotion/AffWild2Prj/submit1/submission\n",
      "+ submit_expr_type: test\n",
      "+ submit_expr_file: test.npz\n",
      "+ submit_expr_name: \n",
      "+ submit_va_enable: True\n",
      "+ submit_va_dir: /home/pc/Documents/dntai/projects/Emotion/AffWild2Prj/submit1/submission\n",
      "+ submit_va_type: test_va\n",
      "+ submit_va_file: test_va_16.npz\n",
      "+ submit_va_name: Challenge_Track1_ValAro_CNU_ADL_Submission02\n"
     ]
    }
   ],
   "source": [
    "params = {}\n",
    "params[\"results_dir\"]          = os.path.join(sub_dir, \"results\", \"t31\")\n",
    "params[\"db_file\"]              = os.path.join(dataset_dir, \"AffWild2/data/affwild2_cropped_frames_v1.h5\")\n",
    "params[\"db_root\"]              = os.path.join(dataset_dir, \"AffWild2/data/cropped\")\n",
    "params[\"scheme\"]               = \"emotion_va\" # emotion, emotion_va\n",
    "\n",
    "params[\"valid_view\"]           = True   # view valid summary\n",
    "params[\"valid_file\"]           = \"valid_16.npz\"    # empty if not have\n",
    "\n",
    "######################################################\n",
    "params[\"submit_expr_enable\"] = False\n",
    "params[\"submit_expr_dir\"]    = os.path.join(sub_dir, \"submission\")\n",
    "\n",
    "params[\"submit_expr_type\"]   = \"test\"                                        # valid, test, test_va\n",
    "params[\"submit_expr_file\"]   = \"test.npz\"                                    # empty if not have\n",
    "# params[\"submit_expr_name\"]   = \"Challenge_Track2_Expr_CNU_ADL_Submission01\"  # empty if not have\n",
    "params[\"submit_expr_name\"]   = \"\"  # empty if not have\n",
    "\n",
    "# params[\"submit_expr_type\"]   = \"valid\"                                             # valid, test, test_va\n",
    "# params[\"submit_expr_file\"]   = params[\"valid_file\"]                                # empty if not have\n",
    "\n",
    "# params[\"submit_expr_name\"]   = \"Challenge_Track2_Expr_CNU_ADL_Submission01_Valid\"  # empty if not submit\n",
    "\n",
    "######################################################\n",
    "params[\"submit_va_enable\"] = True  \n",
    "params[\"submit_va_dir\"]    = os.path.join(sub_dir, \"submission\")\n",
    "\n",
    "params[\"submit_va_type\"]   = \"test_va\"                                        # valid, test, test_va\n",
    "params[\"submit_va_file\"]   = \"test_va_16.npz\"                                    # empty if not have\n",
    "params[\"submit_va_name\"]   = \"Challenge_Track1_ValAro_CNU_ADL_Submission02\"     # empty if not submit\n",
    "# params[\"submit_va_name\"]   = \"\"                                               # empty if not submit\n",
    "\n",
    "# params[\"submit_va_type\"]   = \"valid\"                                              # valid, test, test_va\n",
    "# params[\"submit_va_file\"]   = params[\"valid_file\"]                                 # empty if not have\n",
    "# params[\"submit_va_name\"]   = \"Challenge_Track1_ValAro_CNU_ADL_Submission01_Valid\" # empty if not submit\n",
    "\n",
    "print(\"parameters: \")\n",
    "for key in params.keys(): print(\"+ %s: %s\"%(key,params[key]))"
   ]
  },
  {
   "cell_type": "markdown",
   "metadata": {},
   "source": [
    "## 2. Setup Data"
   ]
  },
  {
   "cell_type": "code",
   "execution_count": 5,
   "metadata": {},
   "outputs": [
    {
     "name": "stdout",
     "output_type": "stream",
     "text": [
      "dataset_info: \n",
      "+ db_file: /home/pc/Documents/dntai/projects/Emotion/AffWild2Prj/data/datasets/AffWild2/data/affwild2_cropped_frames_v1.h5\n",
      "+ db_root: /home/pc/Documents/dntai/projects/Emotion/AffWild2Prj/data/datasets/AffWild2/data/cropped\n",
      "Loading Scheme Emotion VA: \n",
      " + Loading train: 194\n",
      " + Loading valid: 57\n",
      " + Loading test: 223\n",
      " + Loading va_test: 139\n"
     ]
    }
   ],
   "source": [
    "# Dataset Configuration\n",
    "dataset_info  = dict(db_file = params[\"db_file\"], db_root = params[\"db_root\"])\n",
    "print(\"dataset_info: \")\n",
    "for key in dataset_info.keys(): print(\"+ %s: %s\"%(key,dataset_info[key]))\n",
    "    \n",
    "ds = AffWild2Dataset(**dataset_info)\n",
    "if params[\"scheme\"] == \"emotion_va\":\n",
    "    ds.load_scheme_emotion_va()\n",
    "elif params[\"scheme\"] == \"emotion\":\n",
    "    ds.load_scheme_emotion()"
   ]
  },
  {
   "cell_type": "markdown",
   "metadata": {},
   "source": [
    "## 3. Functions"
   ]
  },
  {
   "cell_type": "code",
   "execution_count": 6,
   "metadata": {},
   "outputs": [],
   "source": [
    "# submit_expr(load_name   = params[\"submit_expr_file\"],\n",
    "#             load_type   = params[\"submit_expr_type\"],\n",
    "#             load_dir    = params[\"results_dir\"],\n",
    "#             save_dir    = params[\"submit_expr_dir\"],\n",
    "#             a_idx_data  = ds.a_idx_test,\n",
    "#             ds          = ds,\n",
    "#             submit_name = params[\"submit_expr_name\"])"
   ]
  },
  {
   "cell_type": "code",
   "execution_count": 7,
   "metadata": {},
   "outputs": [],
   "source": [
    "# x = submit_va(load_name   = params[\"submit_va_file\"],\n",
    "#           load_type   = params[\"submit_va_type\"],\n",
    "#           load_dir    = params[\"results_dir\"],\n",
    "#           save_dir    = params[\"submit_va_dir\"],\n",
    "#           a_idx_data  = ds.a_idx_va_test,\n",
    "#           ds          = ds,\n",
    "#           submit_name = params[\"submit_va_name\"])"
   ]
  },
  {
   "cell_type": "code",
   "execution_count": 8,
   "metadata": {},
   "outputs": [],
   "source": [
    "# view_summary(load_name = params[\"valid_file\"], \n",
    "#              load_type = \"valid\", \n",
    "#              load_dir  = params[\"results_dir\"], \n",
    "#              a_idx_data= ds.a_idx_valid, \n",
    "#              ds        = ds)"
   ]
  },
  {
   "cell_type": "markdown",
   "metadata": {},
   "source": [
    "## 4. View summary"
   ]
  },
  {
   "cell_type": "code",
   "execution_count": 9,
   "metadata": {},
   "outputs": [
    {
     "name": "stdout",
     "output_type": "stream",
     "text": [
      "================================\n",
      "Summary [valid]\n",
      "+ File: /home/pc/Documents/dntai/projects/Emotion/AffWild2Prj/submit1/results/t31/valid_16.npz\n",
      "+ Scheme: emotion_va\n",
      "+ Nummber of items: 255683\n",
      "================================\n",
      "Nummber of frames: 255683\n",
      "Classification Report: \n",
      "               precision    recall  f1-score   support\n",
      "\n",
      "     Neutral       0.83      0.42      0.56    156069\n",
      "       Angry       0.13      0.31      0.19      6803\n",
      "     Disgust       0.05      0.25      0.08       977\n",
      "        Fear       0.07      0.05      0.06      8152\n",
      "       Happy       0.46      0.69      0.55     36605\n",
      "         Sad       0.43      0.59      0.50     31186\n",
      "    Surprise       0.20      0.63      0.31     15891\n",
      "\n",
      "    accuracy                           0.48    255683\n",
      "   macro avg       0.31      0.42      0.32    255683\n",
      "weighted avg       0.64      0.48      0.51    255683\n",
      "\n",
      "Confustion Matrix Int: \n",
      " [[65952 11013  2984  4616 25735 14656 31113]\n",
      " [  691  2114    37   164   599  2515   683]\n",
      " [  129   145   243    11   132   145   172]\n",
      " [ 1371   195   449   418   230  3717  1772]\n",
      " [ 3367   540   115   135 25381  2771  4296]\n",
      " [ 6166   791  1318   829  1856 18260  1966]\n",
      " [ 2107  1159   153   175  1713   497 10087]]\n",
      "\n",
      "Confustion Matrix Norm: \n",
      " [[42.26  7.06  1.91  2.96 16.49  9.39 19.94]\n",
      " [10.16 31.07  0.54  2.41  8.8  36.97 10.04]\n",
      " [13.2  14.84 24.87  1.13 13.51 14.84 17.6 ]\n",
      " [16.82  2.39  5.51  5.13  2.82 45.6  21.74]\n",
      " [ 9.2   1.48  0.31  0.37 69.34  7.57 11.74]\n",
      " [19.77  2.54  4.23  2.66  5.95 58.55  6.3 ]\n",
      " [13.26  7.29  0.96  1.1  10.78  3.13 63.48]]\n",
      "\n",
      "Labels:\t\t ['Neutral' 'Angry' 'Disgust' 'Fear' 'Happy' 'Sad' 'Surprise']\n",
      "Accuracy:\t [0.42 0.31 0.25 0.05 0.69 0.59 0.63]  -- Acc:  47.89%\n",
      "F1:\t\t [0.56 0.19 0.08 0.06 0.55 0.5  0.31]  -- Avg:  Weighted: 0.51 - No: 0.32\n",
      "Recall:\t\t [0.42 0.31 0.25 0.05 0.69 0.59 0.63]  -- Avg:  Weighted: 0.48 - No: 0.42\n",
      "Precision:\t [0.83 0.13 0.05 0.07 0.46 0.43 0.2 ]  -- Avg:  Weighted: 0.64 - No: 0.31\n",
      "Support:\t [156069   6803    977   8152  36605  31186  15891]  -- All:  255683\n",
      "\n",
      "f1: 0.5066355102152962\n",
      "acc: 0.4789328973768299\n",
      "expr: 0.4924272928764494\n",
      "aro: 0.5635534104675721, 0.5635556145808717\n",
      "val: 0.5041685755641707, 0.5041705466379517\n",
      "valaro_avg: 0.5338609930158714, 0.5338630806094117\n"
     ]
    },
    {
     "data": {
      "image/png": "[encoded data removed]",
      "text/plain": [
       "<Figure size 432x432 with 1 Axes>"
      ]
     },
     "metadata": {
      "needs_background": "light"
     },
     "output_type": "display_data"
    }
   ],
   "source": [
    "if params[\"valid_file\"] != \"\" and params[\"valid_view\"] == True:\n",
    "    view_summary(load_name   = params[\"valid_file\"], \n",
    "                 load_type   = \"valid\", \n",
    "                 load_dir    = params[\"results_dir\"], \n",
    "                 scheme_name = params[\"scheme\"], \n",
    "                 a_idx_data  = ds.a_idx_valid, \n",
    "                 ds          = ds)\n",
    "# if"
   ]
  },
  {
   "cell_type": "markdown",
   "metadata": {},
   "source": [
    "## 4. Submit"
   ]
  },
  {
   "cell_type": "code",
   "execution_count": 10,
   "metadata": {},
   "outputs": [],
   "source": [
    "if params[\"submit_expr_enable\"] == True and params[\"submit_expr_file\"] != \"\" and params[\"submit_expr_name\"]!= \"\" and params[\"submit_expr_type\"]!=\"\":\n",
    "    if params[\"submit_expr_type\"] == \"valid\":\n",
    "        a_idx_submit_expr = ds.a_idx_valid\n",
    "    elif params[\"submit_expr_type\"] == \"test\":\n",
    "        a_idx_submit_expr = ds.a_idx_test\n",
    "    elif params[\"submit_expr_type\"] == \"test_va\":\n",
    "        a_idx_submit_expr = ds.a_idx_va_test\n",
    "    \n",
    "    submit_expr(load_name   = params[\"submit_expr_file\"],\n",
    "                load_type   = params[\"submit_expr_type\"],\n",
    "                load_dir    = params[\"results_dir\"],\n",
    "                save_dir    = params[\"submit_expr_dir\"],\n",
    "                a_idx_data  = a_idx_submit_expr,\n",
    "                ds          = ds,\n",
    "                submit_name = params[\"submit_expr_name\"])\n",
    "# if"
   ]
  },
  {
   "cell_type": "code",
   "execution_count": 11,
   "metadata": {},
   "outputs": [
    {
     "name": "stdout",
     "output_type": "stream",
     "text": [
      "================================\n",
      "Submit [test_va] - Valence-Arousal\n",
      "+ File: /home/pc/Documents/dntai/projects/Emotion/AffWild2Prj/submit1/results/t31/test_va_16.npz\n",
      "+ Nummber of items: 716665\n",
      "+ Save folder: /home/pc/Documents/dntai/projects/Emotion/AffWild2Prj/submit1/submission/Challenge_Track1_ValAro_CNU_ADL_Submission02\n",
      "================================\n"
     ]
    },
    {
     "name": "stderr",
     "output_type": "stream",
     "text": [
      "Process video:   0%|          | 0/139 [00:00<?, ?it/s]/home/pc/Documents/dntai/.conda/envs/cur37/lib/python3.7/site-packages/pandas/core/indexing.py:376: SettingWithCopyWarning: \n",
      "A value is trying to be set on a copy of a slice from a DataFrame.\n",
      "Try using .loc[row_indexer,col_indexer] = value instead\n",
      "\n",
      "See the caveats in the documentation: http://pandas.pydata.org/pandas-docs/stable/user_guide/indexing.html#returning-a-view-versus-a-copy\n",
      "  self.obj[key] = _infer_fill_value(value)\n",
      "/home/pc/Documents/dntai/.conda/envs/cur37/lib/python3.7/site-packages/pandas/core/indexing.py:494: SettingWithCopyWarning: \n",
      "A value is trying to be set on a copy of a slice from a DataFrame.\n",
      "Try using .loc[row_indexer,col_indexer] = value instead\n",
      "\n",
      "See the caveats in the documentation: http://pandas.pydata.org/pandas-docs/stable/user_guide/indexing.html#returning-a-view-versus-a-copy\n",
      "  self.obj[item] = s\n",
      "Process video:   1%|          | 1/139 [00:00<00:16,  8.46it/s]"
     ]
    },
    {
     "name": "stdout",
     "output_type": "stream",
     "text": [
      "Nummber of frames: 716665\n"
     ]
    },
    {
     "name": "stderr",
     "output_type": "stream",
     "text": [
      "Process video: 100%|██████████| 139/139 [00:15<00:00,  9.25it/s]\n"
     ]
    }
   ],
   "source": [
    "if params[\"submit_va_enable\"] == True and params[\"submit_va_file\"] != \"\" and params[\"submit_va_name\"]!= \"\" and params[\"submit_va_type\"]!=\"\":\n",
    "    if params[\"submit_va_type\"] == \"valid\":\n",
    "        a_idx_submit_va = ds.a_idx_valid\n",
    "    elif params[\"submit_va_type\"] == \"test\":\n",
    "        a_idx_submit_va = ds.a_idx_test\n",
    "    elif params[\"submit_va_type\"] == \"test_va\":\n",
    "        a_idx_submit_va = ds.a_idx_va_test\n",
    "    \n",
    "    submit_va(load_name   = params[\"submit_va_file\"],\n",
    "                load_type   = params[\"submit_va_type\"],\n",
    "                load_dir    = params[\"results_dir\"],\n",
    "                save_dir    = params[\"submit_va_dir\"],\n",
    "                a_idx_data  = a_idx_submit_va,\n",
    "                ds          = ds,\n",
    "                submit_name = params[\"submit_va_name\"])\n",
    "# if"
   ]
  },
  {
   "cell_type": "markdown",
   "metadata": {},
   "source": [
    "# END PROJECT"
   ]
  }
 ],
 "metadata": {
  "kernelspec": {
   "display_name": "cur37",
   "language": "python",
   "name": "cur37"
  },
  "language_info": {
   "codemirror_mode": {
    "name": "ipython",
    "version": 3
   },
   "file_extension": ".py",
   "mimetype": "text/x-python",
   "name": "python",
   "nbconvert_exporter": "python",
   "pygments_lexer": "ipython3",
   "version": "3.7.5"
  }
 },
 "nbformat": 4,
 "nbformat_minor": 4
}
