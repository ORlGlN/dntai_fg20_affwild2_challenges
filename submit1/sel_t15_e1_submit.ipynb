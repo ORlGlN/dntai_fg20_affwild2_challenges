{
 "cells": [
  {
   "cell_type": "markdown",
   "metadata": {},
   "source": [
    "# SUBMIT"
   ]
  },
  {
   "cell_type": "code",
   "execution_count": 1,
   "metadata": {},
   "outputs": [],
   "source": [
    "from __future__ import absolute_import, division, print_function\n",
    "\n",
    "%load_ext autoreload\n",
    "%reload_ext autoreload\n",
    "%autoreload 2"
   ]
  },
  {
   "cell_type": "code",
   "execution_count": 2,
   "metadata": {},
   "outputs": [],
   "source": [
    "from config import *\n",
    "from common import *\n",
    "display.clear_output()"
   ]
  },
  {
   "cell_type": "markdown",
   "metadata": {},
   "source": [
    "## 1. Setup Environments"
   ]
  },
  {
   "cell_type": "code",
   "execution_count": 13,
   "metadata": {},
   "outputs": [],
   "source": [
    "from affwild2_challenge.basic_emotion_v1.dataset_affwild2 import AffWild2Dataset, emotiw_affwild2_mapping, affwild2_name, affwild2_emotiw_mapping, emotiw_name\n",
    "from affwild2_challenge.basic_emotion_v1.submission import submit_expr, submit_va, view_summary"
   ]
  },
  {
   "cell_type": "code",
   "execution_count": 14,
   "metadata": {},
   "outputs": [
    {
     "name": "stdout",
     "output_type": "stream",
     "text": [
      "parameters: \n",
      "+ results_dir: /home/pc/Documents/dntai/projects/Emotion/AffWild2Prj/submit1/results/t15\n",
      "+ db_file: /home/pc/Documents/dntai/projects/Emotion/AffWild2Prj/data/datasets/AffWild2/data/affwild2_cropped_frames_v1.h5\n",
      "+ db_root: /home/pc/Documents/dntai/projects/Emotion/AffWild2Prj/data/datasets/AffWild2/data/cropped\n",
      "+ scheme: emotion_va\n",
      "+ valid_view: True\n",
      "+ valid_file: valid.npz\n",
      "+ submit_expr_enable: True\n",
      "+ submit_expr_dir: /home/pc/Documents/dntai/projects/Emotion/AffWild2Prj/submit1/submission\n",
      "+ submit_expr_type: test\n",
      "+ submit_expr_file: test.npz\n",
      "+ submit_expr_name: Challenge_Track2_Expr_CNU_ADL_Submission01\n",
      "+ submit_va_enable: False\n",
      "+ submit_va_dir: /home/pc/Documents/dntai/projects/Emotion/AffWild2Prj/submit1/submission\n",
      "+ submit_va_type: test_va\n",
      "+ submit_va_file: test_va.npz\n",
      "+ submit_va_name: \n"
     ]
    }
   ],
   "source": [
    "params = {}\n",
    "params[\"results_dir\"]          = os.path.join(sub_dir, \"results\", \"t15\")\n",
    "params[\"db_file\"]              = os.path.join(dataset_dir, \"AffWild2/data/affwild2_cropped_frames_v1.h5\")\n",
    "params[\"db_root\"]              = os.path.join(dataset_dir, \"AffWild2/data/cropped\")\n",
    "params[\"scheme\"]               = \"emotion_va\" # emotion, emotion_va\n",
    "\n",
    "params[\"valid_view\"]           = True   # view valid summary\n",
    "params[\"valid_file\"]           = \"valid.npz\"    # empty if not have\n",
    "\n",
    "######################################################\n",
    "params[\"submit_expr_enable\"] = True\n",
    "params[\"submit_expr_dir\"]    = os.path.join(sub_dir, \"submission\")\n",
    "\n",
    "params[\"submit_expr_type\"]   = \"test\"                                        # valid, test, test_va\n",
    "params[\"submit_expr_file\"]   = \"test.npz\"                                    # empty if not have\n",
    "params[\"submit_expr_name\"]   = \"Challenge_Track2_Expr_CNU_ADL_Submission01\"  # empty if not have\n",
    "# params[\"submit_expr_name\"]   = \"\"  # empty if not have\n",
    "\n",
    "# params[\"submit_expr_type\"]   = \"valid\"                                             # valid, test, test_va\n",
    "# params[\"submit_expr_file\"]   = params[\"valid_file\"]                                # empty if not have\n",
    "\n",
    "# params[\"submit_expr_name\"]   = \"Challenge_Track2_Expr_CNU_ADL_Submission01_Valid\"  # empty if not submit\n",
    "\n",
    "######################################################\n",
    "params[\"submit_va_enable\"] = False  \n",
    "params[\"submit_va_dir\"]    = os.path.join(sub_dir, \"submission\")\n",
    "\n",
    "params[\"submit_va_type\"]   = \"test_va\"                                        # valid, test, test_va\n",
    "params[\"submit_va_file\"]   = \"test_va.npz\"                                    # empty if not have\n",
    "# params[\"submit_va_name\"]   = \"Challenge_Track1_ValAro_CNU_ADL_Submission01\"     # empty if not submit\n",
    "params[\"submit_va_name\"]   = \"\"                                               # empty if not submit\n",
    "\n",
    "# params[\"submit_va_type\"]   = \"valid\"                                              # valid, test, test_va\n",
    "# params[\"submit_va_file\"]   = params[\"valid_file\"]                                 # empty if not have\n",
    "# params[\"submit_va_name\"]   = \"Challenge_Track1_ValAro_CNU_ADL_Submission01_Valid\" # empty if not submit\n",
    "\n",
    "print(\"parameters: \")\n",
    "for key in params.keys(): print(\"+ %s: %s\"%(key,params[key]))"
   ]
  },
  {
   "cell_type": "markdown",
   "metadata": {},
   "source": [
    "## 2. Setup Data"
   ]
  },
  {
   "cell_type": "code",
   "execution_count": 15,
   "metadata": {},
   "outputs": [
    {
     "name": "stdout",
     "output_type": "stream",
     "text": [
      "dataset_info: \n",
      "+ db_file: /home/pc/Documents/dntai/projects/Emotion/AffWild2Prj/data/datasets/AffWild2/data/affwild2_cropped_frames_v1.h5\n",
      "+ db_root: /home/pc/Documents/dntai/projects/Emotion/AffWild2Prj/data/datasets/AffWild2/data/cropped\n",
      "Loading Scheme Emotion VA: \n",
      " + Loading train: 194\n",
      " + Loading valid: 57\n",
      " + Loading test: 223\n",
      " + Loading va_test: 139\n"
     ]
    }
   ],
   "source": [
    "# Dataset Configuration\n",
    "dataset_info  = dict(db_file = params[\"db_file\"], db_root = params[\"db_root\"])\n",
    "print(\"dataset_info: \")\n",
    "for key in dataset_info.keys(): print(\"+ %s: %s\"%(key,dataset_info[key]))\n",
    "    \n",
    "ds = AffWild2Dataset(**dataset_info)\n",
    "if params[\"scheme\"] == \"emotion_va\":\n",
    "    ds.load_scheme_emotion_va()\n",
    "elif params[\"scheme\"] == \"emotion\":\n",
    "    ds.load_scheme_emotion()"
   ]
  },
  {
   "cell_type": "markdown",
   "metadata": {},
   "source": [
    "## 3. Functions"
   ]
  },
  {
   "cell_type": "code",
   "execution_count": 16,
   "metadata": {},
   "outputs": [],
   "source": [
    "# submit_expr(load_name   = params[\"submit_expr_file\"],\n",
    "#             load_type   = params[\"submit_expr_type\"],\n",
    "#             load_dir    = params[\"results_dir\"],\n",
    "#             save_dir    = params[\"submit_expr_dir\"],\n",
    "#             a_idx_data  = ds.a_idx_test,\n",
    "#             ds          = ds,\n",
    "#             submit_name = params[\"submit_expr_name\"])"
   ]
  },
  {
   "cell_type": "code",
   "execution_count": 17,
   "metadata": {},
   "outputs": [],
   "source": [
    "# submit_va(load_name   = params[\"submit_va_file\"],\n",
    "#           load_type   = params[\"submit_va_type\"],\n",
    "#           load_dir    = params[\"results_dir\"],\n",
    "#           save_dir    = params[\"submit_va_dir\"],\n",
    "#           a_idx_data  = ds.a_idx_va_test,\n",
    "#           ds          = ds,\n",
    "#           submit_name = params[\"submit_va_name\"])"
   ]
  },
  {
   "cell_type": "code",
   "execution_count": 18,
   "metadata": {},
   "outputs": [],
   "source": [
    "# view_summary(load_name = params[\"valid_file\"], \n",
    "#              load_type = \"valid\", \n",
    "#              load_dir  = params[\"results_dir\"], \n",
    "#              a_idx_data= ds.a_idx_valid, \n",
    "#              ds        = ds)"
   ]
  },
  {
   "cell_type": "markdown",
   "metadata": {},
   "source": [
    "## 4. View summary"
   ]
  },
  {
   "cell_type": "code",
   "execution_count": 19,
   "metadata": {},
   "outputs": [
    {
     "name": "stdout",
     "output_type": "stream",
     "text": [
      "================================\n",
      "Summary [valid]\n",
      "+ File: /home/pc/Documents/dntai/projects/Emotion/AffWild2Prj/submit1/results/t15/valid.npz\n",
      "+ Scheme: emotion_va\n",
      "+ Nummber of items: 255683\n",
      "================================\n",
      "Nummber of frames: 255683\n",
      "Classification Report: \n",
      "               precision    recall  f1-score   support\n",
      "\n",
      "     Neutral       0.74      0.53      0.62    156069\n",
      "       Angry       0.09      0.17      0.12      6803\n",
      "     Disgust       0.01      0.03      0.02       977\n",
      "        Fear       0.12      0.07      0.09      8152\n",
      "       Happy       0.48      0.69      0.56     36605\n",
      "         Sad       0.27      0.34      0.30     31186\n",
      "    Surprise       0.18      0.36      0.24     15891\n",
      "\n",
      "    accuracy                           0.49    255683\n",
      "   macro avg       0.27      0.31      0.28    255683\n",
      "weighted avg       0.57      0.49      0.51    255683\n",
      "\n",
      "Confustion Matrix Int: \n",
      " [[82772  7517   971  2331 20396 20202 21880]\n",
      " [ 4229  1162    10    10   479   850    63]\n",
      " [  204   299    27     0   170   225    52]\n",
      " [ 1148   245   444   595   518  3854  1348]\n",
      " [ 6567   179    66   222 25337  2375  1859]\n",
      " [11596  2323   416  1033  4405 10519   894]\n",
      " [ 5903  1047    39   675  1935   627  5665]]\n",
      "\n",
      "Confustion Matrix Norm: \n",
      " [[53.04  4.82  0.62  1.49 13.07 12.94 14.02]\n",
      " [62.16 17.08  0.15  0.15  7.04 12.49  0.93]\n",
      " [20.88 30.6   2.76  0.   17.4  23.03  5.32]\n",
      " [14.08  3.01  5.45  7.3   6.35 47.28 16.54]\n",
      " [17.94  0.49  0.18  0.61 69.22  6.49  5.08]\n",
      " [37.18  7.45  1.33  3.31 14.12 33.73  2.87]\n",
      " [37.15  6.59  0.25  4.25 12.18  3.95 35.65]]\n",
      "\n",
      "Labels:\t\t ['Neutral' 'Angry' 'Disgust' 'Fear' 'Happy' 'Sad' 'Surprise']\n",
      "Accuracy:\t [0.53 0.17 0.03 0.07 0.69 0.34 0.36]  -- Acc:  49.31%\n",
      "F1:\t\t [0.62 0.12 0.02 0.09 0.56 0.3  0.24]  -- Avg:  Weighted: 0.51 - No: 0.28\n",
      "Recall:\t\t [0.53 0.17 0.03 0.07 0.69 0.34 0.36]  -- Avg:  Weighted: 0.49 - No: 0.31\n",
      "Precision:\t [0.74 0.09 0.01 0.12 0.48 0.27 0.18]  -- Avg:  Weighted: 0.57 - No: 0.27\n",
      "Support:\t [156069   6803    977   8152  36605  31186  15891]  -- All:  255683\n",
      "\n",
      "f1: 0.5147709375168275\n",
      "acc: 0.49309887634297156\n",
      "expr: 0.5024714479542868\n",
      "aro: 0.37541026626687557, 0.37541173454123566\n",
      "val: 0.4061241445500878, 0.4061257329618255\n",
      "valaro_avg: 0.39076720540848164, 0.3907687337515306\n"
     ]
    },
    {
     "data": {
      "image/png": "[encoded data removed]",
      "text/plain": [
       "<Figure size 432x432 with 1 Axes>"
      ]
     },
     "metadata": {
      "needs_background": "light"
     },
     "output_type": "display_data"
    }
   ],
   "source": [
    "if params[\"valid_file\"] != \"\" and params[\"valid_view\"] == True:\n",
    "    view_summary(load_name   = params[\"valid_file\"], \n",
    "                 load_type   = \"valid\", \n",
    "                 load_dir    = params[\"results_dir\"], \n",
    "                 scheme_name = params[\"scheme\"], \n",
    "                 a_idx_data  = ds.a_idx_valid, \n",
    "                 ds          = ds)\n",
    "# if"
   ]
  },
  {
   "cell_type": "markdown",
   "metadata": {},
   "source": [
    "## 4. Submit"
   ]
  },
  {
   "cell_type": "code",
   "execution_count": 20,
   "metadata": {},
   "outputs": [
    {
     "name": "stdout",
     "output_type": "stream",
     "text": [
      "================================\n",
      "Submit [test] - Expr\n",
      "+ File: /home/pc/Documents/dntai/projects/Emotion/AffWild2Prj/submit1/results/t15/test.npz\n",
      "+ Nummber of items: 997326\n",
      "+ Save folder: /home/pc/Documents/dntai/projects/Emotion/AffWild2Prj/submit1/submission/Challenge_Track2_Expr_CNU_ADL_Submission01\n",
      "================================\n"
     ]
    },
    {
     "name": "stderr",
     "output_type": "stream",
     "text": [
      "Process video:   0%|          | 0/223 [00:00<?, ?it/s]/home/pc/Documents/dntai/.conda/envs/cur37/lib/python3.7/site-packages/pandas/core/indexing.py:494: SettingWithCopyWarning: \n",
      "A value is trying to be set on a copy of a slice from a DataFrame.\n",
      "Try using .loc[row_indexer,col_indexer] = value instead\n",
      "\n",
      "See the caveats in the documentation: http://pandas.pydata.org/pandas-docs/stable/user_guide/indexing.html#returning-a-view-versus-a-copy\n",
      "  self.obj[item] = s\n",
      "Process video:   0%|          | 1/223 [00:00<00:22,  9.74it/s]"
     ]
    },
    {
     "name": "stdout",
     "output_type": "stream",
     "text": [
      "Nummber of frames: 997326\n"
     ]
    },
    {
     "name": "stderr",
     "output_type": "stream",
     "text": [
      "Process video: 100%|██████████| 223/223 [00:22<00:00,  9.98it/s]\n"
     ]
    }
   ],
   "source": [
    "if params[\"submit_expr_enable\"] == True and params[\"submit_expr_file\"] != \"\" and params[\"submit_expr_name\"]!= \"\" and params[\"submit_expr_type\"]!=\"\":\n",
    "    if params[\"submit_expr_type\"] == \"valid\":\n",
    "        a_idx_submit_expr = ds.a_idx_valid\n",
    "    elif params[\"submit_expr_type\"] == \"test\":\n",
    "        a_idx_submit_expr = ds.a_idx_test\n",
    "    elif params[\"submit_expr_type\"] == \"test_va\":\n",
    "        a_idx_submit_expr = ds.a_idx_va_test\n",
    "    \n",
    "    submit_expr(load_name   = params[\"submit_expr_file\"],\n",
    "                load_type   = params[\"submit_expr_type\"],\n",
    "                load_dir    = params[\"results_dir\"],\n",
    "                save_dir    = params[\"submit_expr_dir\"],\n",
    "                a_idx_data  = a_idx_submit_expr,\n",
    "                ds          = ds,\n",
    "                submit_name = params[\"submit_expr_name\"])\n",
    "# if"
   ]
  },
  {
   "cell_type": "code",
   "execution_count": 21,
   "metadata": {},
   "outputs": [],
   "source": [
    "if params[\"submit_va_enable\"] == True and params[\"submit_va_file\"] != \"\" and params[\"submit_va_name\"]!= \"\" and params[\"submit_va_type\"]!=\"\":\n",
    "    if params[\"submit_va_type\"] == \"valid\":\n",
    "        a_idx_submit_va = ds.a_idx_valid\n",
    "    elif params[\"submit_va_type\"] == \"test\":\n",
    "        a_idx_submit_va = ds.a_idx_test\n",
    "    elif params[\"submit_va_type\"] == \"test_va\":\n",
    "        a_idx_submit_va = ds.a_idx_va_test\n",
    "    \n",
    "    submit_va(load_name   = params[\"submit_va_file\"],\n",
    "                load_type   = params[\"submit_va_type\"],\n",
    "                load_dir    = params[\"results_dir\"],\n",
    "                save_dir    = params[\"submit_va_dir\"],\n",
    "                a_idx_data  = a_idx_submit_va,\n",
    "                ds          = ds,\n",
    "                submit_name = params[\"submit_va_name\"])\n",
    "# if"
   ]
  },
  {
   "cell_type": "markdown",
   "metadata": {},
   "source": [
    "# END PROJECT"
   ]
  }
 ],
 "metadata": {
  "kernelspec": {
   "display_name": "cur37",
   "language": "python",
   "name": "cur37"
  },
  "language_info": {
   "codemirror_mode": {
    "name": "ipython",
    "version": 3
   },
   "file_extension": ".py",
   "mimetype": "text/x-python",
   "name": "python",
   "nbconvert_exporter": "python",
   "pygments_lexer": "ipython3",
   "version": "3.7.5"
  }
 },
 "nbformat": 4,
 "nbformat_minor": 4
}
