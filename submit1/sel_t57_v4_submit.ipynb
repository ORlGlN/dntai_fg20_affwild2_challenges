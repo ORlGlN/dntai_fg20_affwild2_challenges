{
 "cells": [
  {
   "cell_type": "markdown",
   "metadata": {},
   "source": [
    "# SUBMIT"
   ]
  },
  {
   "cell_type": "code",
   "execution_count": 1,
   "metadata": {},
   "outputs": [],
   "source": [
    "from __future__ import absolute_import, division, print_function\n",
    "\n",
    "%load_ext autoreload\n",
    "%reload_ext autoreload\n",
    "%autoreload 2"
   ]
  },
  {
   "cell_type": "code",
   "execution_count": 2,
   "metadata": {},
   "outputs": [],
   "source": [
    "from config import *\n",
    "from common import *\n",
    "display.clear_output()"
   ]
  },
  {
   "cell_type": "markdown",
   "metadata": {},
   "source": [
    "## 1. Setup Environments"
   ]
  },
  {
   "cell_type": "code",
   "execution_count": 3,
   "metadata": {},
   "outputs": [],
   "source": [
    "from affwild2_challenge.basic_emotion_v1.dataset_affwild2 import AffWild2Dataset, emotiw_affwild2_mapping, affwild2_name, affwild2_emotiw_mapping, emotiw_name\n",
    "from affwild2_challenge.basic_emotion_v1.submission import submit_expr, submit_va, view_summary"
   ]
  },
  {
   "cell_type": "code",
   "execution_count": 4,
   "metadata": {},
   "outputs": [
    {
     "name": "stdout",
     "output_type": "stream",
     "text": [
      "parameters: \n",
      "+ results_dir: /home/pc/Documents/dntai/projects/Emotion/AffWild2Prj/submit1/results/t57\n",
      "+ db_file: /home/pc/Documents/dntai/projects/Emotion/AffWild2Prj/data/datasets/AffWild2/data/affwild2_cropped_frames_v1.h5\n",
      "+ db_root: /home/pc/Documents/dntai/projects/Emotion/AffWild2Prj/data/datasets/AffWild2/data/cropped\n",
      "+ scheme: emotion_va\n",
      "+ valid_view: True\n",
      "+ valid_file: valid.npz\n",
      "+ submit_expr_enable: False\n",
      "+ submit_expr_dir: /home/pc/Documents/dntai/projects/Emotion/AffWild2Prj/submit1/submission\n",
      "+ submit_expr_type: test\n",
      "+ submit_expr_file: test.npz\n",
      "+ submit_expr_name: \n",
      "+ submit_va_enable: True\n",
      "+ submit_va_dir: /home/pc/Documents/dntai/projects/Emotion/AffWild2Prj/submit1/submission\n",
      "+ submit_va_type: test_va\n",
      "+ submit_va_file: test_va.npz\n",
      "+ submit_va_name: Challenge_Track1_ValAro_CNU_ADL_Submission04\n"
     ]
    }
   ],
   "source": [
    "params = {}\n",
    "params[\"results_dir\"]          = os.path.join(sub_dir, \"results\", \"t57\")\n",
    "params[\"db_file\"]              = os.path.join(dataset_dir, \"AffWild2/data/affwild2_cropped_frames_v1.h5\")\n",
    "params[\"db_root\"]              = os.path.join(dataset_dir, \"AffWild2/data/cropped\")\n",
    "params[\"scheme\"]               = \"emotion_va\" # emotion, emotion_va\n",
    "\n",
    "params[\"valid_view\"]           = True   # view valid summary\n",
    "params[\"valid_file\"]           = \"valid.npz\"    # empty if not have\n",
    "\n",
    "######################################################\n",
    "params[\"submit_expr_enable\"] = False\n",
    "params[\"submit_expr_dir\"]    = os.path.join(sub_dir, \"submission\")\n",
    "\n",
    "params[\"submit_expr_type\"]   = \"test\"                                        # valid, test, test_va\n",
    "params[\"submit_expr_file\"]   = \"test.npz\"                                    # empty if not have\n",
    "# params[\"submit_expr_name\"]   = \"Challenge_Track2_Expr_CNU_ADL_Submission01\"  # empty if not have\n",
    "params[\"submit_expr_name\"]   = \"\"  # empty if not have\n",
    "\n",
    "# params[\"submit_expr_type\"]   = \"valid\"                                             # valid, test, test_va\n",
    "# params[\"submit_expr_file\"]   = params[\"valid_file\"]                                # empty if not have\n",
    "\n",
    "# params[\"submit_expr_name\"]   = \"Challenge_Track2_Expr_CNU_ADL_Submission01_Valid\"  # empty if not submit\n",
    "\n",
    "######################################################\n",
    "params[\"submit_va_enable\"] = True  \n",
    "params[\"submit_va_dir\"]    = os.path.join(sub_dir, \"submission\")\n",
    "\n",
    "params[\"submit_va_type\"]   = \"test_va\"                                        # valid, test, test_va\n",
    "params[\"submit_va_file\"]   = \"test_va.npz\"                                    # empty if not have\n",
    "params[\"submit_va_name\"]   = \"Challenge_Track1_ValAro_CNU_ADL_Submission04\"     # empty if not submit\n",
    "# params[\"submit_va_name\"]   = \"\"                                               # empty if not submit\n",
    "\n",
    "# params[\"submit_va_type\"]   = \"valid\"                                              # valid, test, test_va\n",
    "# params[\"submit_va_file\"]   = params[\"valid_file\"]                                 # empty if not have\n",
    "# params[\"submit_va_name\"]   = \"Challenge_Track1_ValAro_CNU_ADL_Submission01_Valid\" # empty if not submit\n",
    "\n",
    "print(\"parameters: \")\n",
    "for key in params.keys(): print(\"+ %s: %s\"%(key,params[key]))"
   ]
  },
  {
   "cell_type": "markdown",
   "metadata": {},
   "source": [
    "## 2. Setup Data"
   ]
  },
  {
   "cell_type": "code",
   "execution_count": 5,
   "metadata": {},
   "outputs": [
    {
     "name": "stdout",
     "output_type": "stream",
     "text": [
      "dataset_info: \n",
      "+ db_file: /home/pc/Documents/dntai/projects/Emotion/AffWild2Prj/data/datasets/AffWild2/data/affwild2_cropped_frames_v1.h5\n",
      "+ db_root: /home/pc/Documents/dntai/projects/Emotion/AffWild2Prj/data/datasets/AffWild2/data/cropped\n",
      "Loading Scheme Emotion VA: \n",
      " + Loading train: 194\n",
      " + Loading valid: 57\n",
      " + Loading test: 223\n",
      " + Loading va_test: 139\n"
     ]
    }
   ],
   "source": [
    "# Dataset Configuration\n",
    "dataset_info  = dict(db_file = params[\"db_file\"], db_root = params[\"db_root\"])\n",
    "print(\"dataset_info: \")\n",
    "for key in dataset_info.keys(): print(\"+ %s: %s\"%(key,dataset_info[key]))\n",
    "    \n",
    "ds = AffWild2Dataset(**dataset_info)\n",
    "if params[\"scheme\"] == \"emotion_va\":\n",
    "    ds.load_scheme_emotion_va()\n",
    "elif params[\"scheme\"] == \"emotion\":\n",
    "    ds.load_scheme_emotion()"
   ]
  },
  {
   "cell_type": "markdown",
   "metadata": {},
   "source": [
    "## 3. Functions"
   ]
  },
  {
   "cell_type": "code",
   "execution_count": 6,
   "metadata": {},
   "outputs": [],
   "source": [
    "# submit_expr(load_name   = params[\"submit_expr_file\"],\n",
    "#             load_type   = params[\"submit_expr_type\"],\n",
    "#             load_dir    = params[\"results_dir\"],\n",
    "#             save_dir    = params[\"submit_expr_dir\"],\n",
    "#             a_idx_data  = ds.a_idx_test,\n",
    "#             ds          = ds,\n",
    "#             submit_name = params[\"submit_expr_name\"])"
   ]
  },
  {
   "cell_type": "code",
   "execution_count": 7,
   "metadata": {},
   "outputs": [],
   "source": [
    "# x = submit_va(load_name   = params[\"submit_va_file\"],\n",
    "#           load_type   = params[\"submit_va_type\"],\n",
    "#           load_dir    = params[\"results_dir\"],\n",
    "#           save_dir    = params[\"submit_va_dir\"],\n",
    "#           a_idx_data  = ds.a_idx_va_test,\n",
    "#           ds          = ds,\n",
    "#           submit_name = params[\"submit_va_name\"])"
   ]
  },
  {
   "cell_type": "code",
   "execution_count": 8,
   "metadata": {},
   "outputs": [],
   "source": [
    "# view_summary(load_name = params[\"valid_file\"], \n",
    "#              load_type = \"valid\", \n",
    "#              load_dir  = params[\"results_dir\"], \n",
    "#              a_idx_data= ds.a_idx_valid, \n",
    "#              ds        = ds)"
   ]
  },
  {
   "cell_type": "markdown",
   "metadata": {},
   "source": [
    "## 4. View summary"
   ]
  },
  {
   "cell_type": "code",
   "execution_count": 9,
   "metadata": {},
   "outputs": [
    {
     "name": "stdout",
     "output_type": "stream",
     "text": [
      "================================\n",
      "Summary [valid]\n",
      "+ File: /home/pc/Documents/dntai/projects/Emotion/AffWild2Prj/submit1/results/t57/valid.npz\n",
      "+ Scheme: emotion_va\n",
      "+ Nummber of items: 255683\n",
      "================================\n",
      "Nummber of frames: 255683\n",
      "Classification Report: \n",
      "               precision    recall  f1-score   support\n",
      "\n",
      "     Neutral       0.84      0.34      0.48    156069\n",
      "       Angry       0.14      0.36      0.20      6803\n",
      "     Disgust       0.05      0.31      0.09       977\n",
      "        Fear       0.08      0.08      0.08      8152\n",
      "       Happy       0.43      0.76      0.55     36605\n",
      "         Sad       0.40      0.64      0.49     31186\n",
      "    Surprise       0.22      0.63      0.32     15891\n",
      "\n",
      "    accuracy                           0.45    255683\n",
      "   macro avg       0.31      0.45      0.32    255683\n",
      "weighted avg       0.64      0.45      0.46    255683\n",
      "\n",
      "Confustion Matrix Int: \n",
      " [[53177 12861  2955  6075 31597 19640 29764]\n",
      " [  538  2460    53   134   587  2513   518]\n",
      " [   65   140   301     9   153   156   153]\n",
      " [  880   338   686   626   323  3747  1552]\n",
      " [ 1820   323   113   104 27831  3116  3298]\n",
      " [ 5209   685  1367   597  2169 19963  1196]\n",
      " [ 1739  1302   211   231  1769   602 10037]]\n",
      "\n",
      "Confustion Matrix Norm: \n",
      " [[34.07  8.24  1.89  3.89 20.25 12.58 19.07]\n",
      " [ 7.91 36.16  0.78  1.97  8.63 36.94  7.61]\n",
      " [ 6.65 14.33 30.81  0.92 15.66 15.97 15.66]\n",
      " [10.79  4.15  8.42  7.68  3.96 45.96 19.04]\n",
      " [ 4.97  0.88  0.31  0.28 76.03  8.51  9.01]\n",
      " [16.7   2.2   4.38  1.91  6.96 64.01  3.84]\n",
      " [10.94  8.19  1.33  1.45 11.13  3.79 63.16]]\n",
      "\n",
      "Labels:\t\t ['Neutral' 'Angry' 'Disgust' 'Fear' 'Happy' 'Sad' 'Surprise']\n",
      "Accuracy:\t [0.34 0.36 0.31 0.08 0.76 0.64 0.63]  -- Acc:  44.74%\n",
      "F1:\t\t [0.48 0.2  0.09 0.08 0.55 0.49 0.32]  -- Avg:  Weighted: 0.46 - No: 0.32\n",
      "Recall:\t\t [0.34 0.36 0.31 0.08 0.76 0.64 0.63]  -- Avg:  Weighted: 0.45 - No: 0.45\n",
      "Precision:\t [0.84 0.14 0.05 0.08 0.43 0.4  0.22]  -- Avg:  Weighted: 0.64 - No: 0.31\n",
      "Support:\t [156069   6803    977   8152  36605  31186  15891]  -- All:  255683\n",
      "\n",
      "f1: 0.46290944865737427\n",
      "acc: 0.44740948752947984\n",
      "expr: 0.4531653669985954\n",
      "aro: 0.5599957563510898, 0.5599979465658242\n",
      "val: 0.4952478656069247, 0.49524980295073145\n",
      "valaro_avg: 0.5276218109790072, 0.5276238747582779\n"
     ]
    },
    {
     "data": {
      "image/png": "[encoded data removed]",
      "text/plain": [
       "<Figure size 432x432 with 1 Axes>"
      ]
     },
     "metadata": {
      "needs_background": "light"
     },
     "output_type": "display_data"
    }
   ],
   "source": [
    "if params[\"valid_file\"] != \"\" and params[\"valid_view\"] == True:\n",
    "    view_summary(load_name   = params[\"valid_file\"], \n",
    "                 load_type   = \"valid\", \n",
    "                 load_dir    = params[\"results_dir\"], \n",
    "                 scheme_name = params[\"scheme\"], \n",
    "                 a_idx_data  = ds.a_idx_valid, \n",
    "                 ds          = ds)\n",
    "# if"
   ]
  },
  {
   "cell_type": "markdown",
   "metadata": {},
   "source": [
    "## 4. Submit"
   ]
  },
  {
   "cell_type": "code",
   "execution_count": 10,
   "metadata": {},
   "outputs": [],
   "source": [
    "if params[\"submit_expr_enable\"] == True and params[\"submit_expr_file\"] != \"\" and params[\"submit_expr_name\"]!= \"\" and params[\"submit_expr_type\"]!=\"\":\n",
    "    if params[\"submit_expr_type\"] == \"valid\":\n",
    "        a_idx_submit_expr = ds.a_idx_valid\n",
    "    elif params[\"submit_expr_type\"] == \"test\":\n",
    "        a_idx_submit_expr = ds.a_idx_test\n",
    "    elif params[\"submit_expr_type\"] == \"test_va\":\n",
    "        a_idx_submit_expr = ds.a_idx_va_test\n",
    "    \n",
    "    submit_expr(load_name   = params[\"submit_expr_file\"],\n",
    "                load_type   = params[\"submit_expr_type\"],\n",
    "                load_dir    = params[\"results_dir\"],\n",
    "                save_dir    = params[\"submit_expr_dir\"],\n",
    "                a_idx_data  = a_idx_submit_expr,\n",
    "                ds          = ds,\n",
    "                submit_name = params[\"submit_expr_name\"])\n",
    "# if"
   ]
  },
  {
   "cell_type": "code",
   "execution_count": 11,
   "metadata": {},
   "outputs": [
    {
     "name": "stdout",
     "output_type": "stream",
     "text": [
      "================================\n",
      "Submit [test_va] - Valence-Arousal\n",
      "+ File: /home/pc/Documents/dntai/projects/Emotion/AffWild2Prj/submit1/results/t57/test_va.npz\n",
      "+ Nummber of items: 716665\n",
      "+ Save folder: /home/pc/Documents/dntai/projects/Emotion/AffWild2Prj/submit1/submission/Challenge_Track1_ValAro_CNU_ADL_Submission04\n",
      "================================\n"
     ]
    },
    {
     "name": "stderr",
     "output_type": "stream",
     "text": [
      "Process video:   0%|          | 0/139 [00:00<?, ?it/s]/home/pc/Documents/dntai/.conda/envs/cur37/lib/python3.7/site-packages/pandas/core/indexing.py:376: SettingWithCopyWarning: \n",
      "A value is trying to be set on a copy of a slice from a DataFrame.\n",
      "Try using .loc[row_indexer,col_indexer] = value instead\n",
      "\n",
      "See the caveats in the documentation: http://pandas.pydata.org/pandas-docs/stable/user_guide/indexing.html#returning-a-view-versus-a-copy\n",
      "  self.obj[key] = _infer_fill_value(value)\n",
      "/home/pc/Documents/dntai/.conda/envs/cur37/lib/python3.7/site-packages/pandas/core/indexing.py:494: SettingWithCopyWarning: \n",
      "A value is trying to be set on a copy of a slice from a DataFrame.\n",
      "Try using .loc[row_indexer,col_indexer] = value instead\n",
      "\n",
      "See the caveats in the documentation: http://pandas.pydata.org/pandas-docs/stable/user_guide/indexing.html#returning-a-view-versus-a-copy\n",
      "  self.obj[item] = s\n",
      "Process video:   1%|          | 1/139 [00:00<00:17,  8.11it/s]"
     ]
    },
    {
     "name": "stdout",
     "output_type": "stream",
     "text": [
      "Nummber of frames: 716665\n"
     ]
    },
    {
     "name": "stderr",
     "output_type": "stream",
     "text": [
      "Process video: 100%|██████████| 139/139 [00:14<00:00,  9.39it/s]\n"
     ]
    }
   ],
   "source": [
    "if params[\"submit_va_enable\"] == True and params[\"submit_va_file\"] != \"\" and params[\"submit_va_name\"]!= \"\" and params[\"submit_va_type\"]!=\"\":\n",
    "    if params[\"submit_va_type\"] == \"valid\":\n",
    "        a_idx_submit_va = ds.a_idx_valid\n",
    "    elif params[\"submit_va_type\"] == \"test\":\n",
    "        a_idx_submit_va = ds.a_idx_test\n",
    "    elif params[\"submit_va_type\"] == \"test_va\":\n",
    "        a_idx_submit_va = ds.a_idx_va_test\n",
    "    \n",
    "    submit_va(load_name   = params[\"submit_va_file\"],\n",
    "                load_type   = params[\"submit_va_type\"],\n",
    "                load_dir    = params[\"results_dir\"],\n",
    "                save_dir    = params[\"submit_va_dir\"],\n",
    "                a_idx_data  = a_idx_submit_va,\n",
    "                ds          = ds,\n",
    "                submit_name = params[\"submit_va_name\"])\n",
    "# if"
   ]
  },
  {
   "cell_type": "markdown",
   "metadata": {},
   "source": [
    "# END PROJECT"
   ]
  }
 ],
 "metadata": {
  "kernelspec": {
   "display_name": "cur37",
   "language": "python",
   "name": "cur37"
  },
  "language_info": {
   "codemirror_mode": {
    "name": "ipython",
    "version": 3
   },
   "file_extension": ".py",
   "mimetype": "text/x-python",
   "name": "python",
   "nbconvert_exporter": "python",
   "pygments_lexer": "ipython3",
   "version": "3.7.5"
  }
 },
 "nbformat": 4,
 "nbformat_minor": 4
}
